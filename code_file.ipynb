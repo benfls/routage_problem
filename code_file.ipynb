{
 "cells": [
  {
   "cell_type": "markdown",
   "metadata": {},
   "source": [
    "<h3> Importation des librairies et sélection des options d'affichage </h3>"
   ]
  },
  {
   "cell_type": "code",
   "execution_count": 6,
   "metadata": {},
   "outputs": [],
   "source": [
    "import networkx as nx\n",
    "import gurobipy\n",
    "from gurobipy import Model, GRB\n",
    "import matplotlib.pyplot as plt\n",
    "import sys\n",
    "import random\n",
    "import csv\n",
    "\n",
    "options = {\n",
    "    \"font_size\": 20,\n",
    "    \"node_size\": 1000,\n",
    "    \"node_color\": \"white\",\n",
    "    \"edgecolors\": \"black\",\n",
    "    \"linewidths\": 5,\n",
    "    \"width\": 5,\n",
    "    \"with_labels\": True,\n",
    "}"
   ]
  },
  {
   "cell_type": "markdown",
   "metadata": {},
   "source": [
    "Fonction de géneration d'instance de graphique avec sélection de type de graphe"
   ]
  },
  {
   "cell_type": "code",
   "execution_count": 7,
   "metadata": {},
   "outputs": [],
   "source": [
    "# Generer des instances de graphes\n",
    "\n",
    "def generate_graph(graph_type, n_nodes, p=None):\n",
    "    \"\"\"\n",
    "    Génère un graphe selon le type spécifié.\n",
    "    :param graph_type: Type de graphe ('complete', 'cycle', 'random').\n",
    "    :param n_nodes: Nombre de nœuds.\n",
    "    :param p: Probabilité pour les graphes aléatoires (nécessaire pour 'random').\n",
    "    :return: Graphe généré.\n",
    "    \"\"\"\n",
    "    if graph_type == 'complete':\n",
    "        G = nx.complete_graph(n_nodes, create_using=nx.DiGraph)\n",
    "    elif graph_type == 'cycle':\n",
    "        G = nx.cycle_graph(n_nodes, create_using=nx.DiGraph)\n",
    "    elif graph_type == 'random':\n",
    "        G = nx.erdos_renyi_graph(n_nodes, p, directed=True)\n",
    "    else:\n",
    "        raise ValueError(\"Type de graphe non supporté\")\n",
    "    return G\n"
   ]
  },
  {
   "cell_type": "markdown",
   "metadata": {},
   "source": [
    "Création des valeurs de capacité et de coût "
   ]
  },
  {
   "cell_type": "code",
   "execution_count": 8,
   "metadata": {},
   "outputs": [],
   "source": [
    "def assign_capacities_and_costs(G, capacity_range, cost_range):\n",
    "    \"\"\"\n",
    "    Assigne des capacités et des coûts de routage aux arcs.\n",
    "    :param G: Graphe.\n",
    "    :param capacity_range: Intervalle pour les capacités (e.g., (1, 10)).\n",
    "    :param cost_range: Intervalle pour les coûts (e.g., (1, 5)).\n",
    "    :return: Graphe avec attributs assignés.\n",
    "    \"\"\"\n",
    "    for u, v in G.edges:\n",
    "        G[u][v]['capacity'] = random.randint(*capacity_range)\n",
    "        G[u][v]['cost'] = random.uniform(*cost_range)\n",
    "    return G"
   ]
  },
  {
   "cell_type": "markdown",
   "metadata": {},
   "source": [
    "Generation de la demande du traffic "
   ]
  },
  {
   "cell_type": "code",
   "execution_count": 9,
   "metadata": {},
   "outputs": [],
   "source": [
    "def generate_traffic_demand(G, S_size, demand_range):\n",
    "    \"\"\"\n",
    "    Génère des sous-ensembles S de nœuds et des demandes de trafic.\n",
    "    :param G: Graphe.\n",
    "    :param S_size: Taille de l'ensemble S.\n",
    "    :param demand_range: Intervalle pour les demandes de trafic (e.g., (1, 20)).\n",
    "    :return: Ensemble S et vecteur des demandes de trafic.\n",
    "    \"\"\"\n",
    "    nodes = list(G.nodes)\n",
    "    S = random.sample(nodes, S_size)\n",
    "    traffic_demand = {}\n",
    "    for i in S:\n",
    "        for j in S:\n",
    "            if i != j:\n",
    "                traffic_demand[(i, j)] = random.randint(*demand_range)\n",
    "    return S, traffic_demand"
   ]
  },
  {
   "cell_type": "markdown",
   "metadata": {},
   "source": [
    "Sauvegarde de l'instance dans un csv"
   ]
  },
  {
   "cell_type": "code",
   "execution_count": 10,
   "metadata": {},
   "outputs": [],
   "source": [
    "def save_to_csv(G, S, traffic_demand, filename):\n",
    "    \"\"\"\n",
    "    Sauvegarde le graphe, les capacités, les coûts et les demandes de trafic dans un fichier CSV.\n",
    "    :param G: Graphe.\n",
    "    :param S: Sous-ensemble des nœuds.\n",
    "    :param traffic_demand: Dictionnaire des demandes de trafic.\n",
    "    :param filename: Nom du fichier CSV.\n",
    "    \"\"\"\n",
    "    with open(\"graph/\"+filename, mode='w', newline='') as file:\n",
    "        writer = csv.writer(file)\n",
    "        # Écriture des arcs avec capacités et coûts\n",
    "        writer.writerow(['Source', 'Target', 'Capacity', 'Cost'])\n",
    "        for u, v in G.edges:\n",
    "            writer.writerow([u, v, G[u][v]['capacity'], G[u][v]['cost']])\n",
    "        \n",
    "        # Écriture des demandes de trafic\n",
    "        writer.writerow([])\n",
    "        writer.writerow(['entry', 'Target', 'Traffic Demand'])\n",
    "        for (i, j), demand in traffic_demand.items():\n",
    "            writer.writerow([i, j, demand])\n",
    "        \n",
    "        # Écriture de l'ensemble S\n",
    "        writer.writerow([])\n",
    "        writer.writerow(['Subset S'])\n",
    "        writer.writerow(S)"
   ]
  },
  {
   "cell_type": "code",
   "execution_count": 11,
   "metadata": {},
   "outputs": [],
   "source": [
    "def create_instance(graph_type, n_nodes, capacity_range, cost_range, S_size, demand_range, filename):\n",
    "    G = generate_graph(graph_type, n_nodes, p=0.3)\n",
    "    G = assign_capacities_and_costs(G, capacity_range, cost_range)\n",
    "    S, traffic_demand = generate_traffic_demand(G, S_size, demand_range)\n",
    "    save_to_csv(G, S, traffic_demand, filename)\n",
    "\n",
    "    print(f\"Instance générée et sauvegardée dans {filename}\")\n",
    "    \n",
    "    "
   ]
  },
  {
   "cell_type": "markdown",
   "metadata": {},
   "source": [
    "Exemple utilisation de géneration, attribution des capacités et coût et de la sauvegarde du graphe "
   ]
  },
  {
   "cell_type": "code",
   "execution_count": 12,
   "metadata": {},
   "outputs": [
    {
     "name": "stdout",
     "output_type": "stream",
     "text": [
      "Instance générée et sauvegardée dans graph_instance2.csv\n"
     ]
    }
   ],
   "source": [
    "# Exemple d'utilisation\n",
    "if __name__ == \"__main__\":\n",
    "    # Paramètres\n",
    "    graph_type = 'random'  # Type de graphe : 'complete', 'cycle', 'random'\n",
    "    n_nodes = 15  # Nombre de nœuds\n",
    "    capacity_range = (1, 10)  # Capacités des arcs\n",
    "    cost_range = (1.0, 5.0)  # Coûts de routage\n",
    "    S_size = 5  # Taille de l'ensemble S\n",
    "    demand_range = (1, 20)  # Intervalle des demandes de trafic\n",
    "    filename = 'graph_instance2.csv'  # Nom du fichier CSV\n",
    "\n",
    "    create_instance(graph_type, n_nodes, capacity_range, cost_range, S_size, demand_range, filename)\n",
    "    \n",
    "    "
   ]
  },
  {
   "cell_type": "markdown",
   "metadata": {},
   "source": [
    "Fonction d'une lecture d'une instance "
   ]
  },
  {
   "cell_type": "code",
   "execution_count": 13,
   "metadata": {},
   "outputs": [],
   "source": [
    "def read_instance(filename):\n",
    "    \"\"\"\n",
    "    Lit une instance à partir d'un fichier CSV.\n",
    "    Args:\n",
    "        filename (string): nom du fichier csv\n",
    "    Return:\n",
    "        Graphe, sous-ensemble S, et demande de trafic  \n",
    "    \"\"\"\n",
    "    G = nx.DiGraph()\n",
    "    traffic_demand = {}\n",
    "    S = []\n",
    "    with open(\"graph/\"+filename, mode='r') as file:\n",
    "        reader = csv.reader(file)\n",
    "        section = \"arcs\"\n",
    "        for row in reader:\n",
    "            if not row:\n",
    "                continue\n",
    "            if row[0] == \"Source\":\n",
    "                continue\n",
    "            if row[0] == \"entry\":\n",
    "                section = \"traffic\"\n",
    "            if row[0] == \"Subset S\":\n",
    "                section = \"subset\"\n",
    "                continue\n",
    "            if section == \"arcs\":\n",
    "                G.add_edge(int(row[0]), int(row[1]), capacity=float(row[2]), cost=float(row[3]))\n",
    "            elif section ==\"traffic\":\n",
    "                traffic_demand[(int(row[0]), int(row[1]))] = int(row[2])\n",
    "            elif section == \"subset\":\n",
    "                S = list(map(int, row))\n",
    "                break\n",
    "    return G, S, traffic_demand \n",
    "    "
   ]
  },
  {
   "cell_type": "markdown",
   "metadata": {},
   "source": [
    "Fonction pour créer et resoudre un PL pour une fonction objectif donnée "
   ]
  },
  {
   "cell_type": "code",
   "execution_count": 14,
   "metadata": {},
   "outputs": [],
   "source": [
    "def solve_linear_program(G, traffic_demand, objective):\n",
    "    \"\"\"\n",
    "    Résout un programme linéaire associé à une fonction objective spécifiée.\n",
    "\n",
    "    Args:\n",
    "        G (networkx graph): graphe de l'instance \n",
    "        traffic_demand (_type_): valeur de la demande pour le sous ensemble S\n",
    "        objective (_type_): fonction objective choisie\n",
    "        \n",
    "    return:\n",
    "        solutions de routage et valeur optimale \n",
    "    \"\"\"\n",
    "    \n",
    "    model = Model(\"Routing\")\n",
    "    \n",
    "    #Variables de décision\n",
    "    x = {}\n",
    "    for (i, j), demand in traffic_demand.items():\n",
    "        for u, v in G.edges:\n",
    "            x[i, j, u, v] = model.addVar(lb=0, ub=1, name=f\"x_{i}_{j}_{u}_{v}\")\n",
    "    \n",
    "    #Contraintes de conservation de flux\n",
    "    for (i, j), demand in traffic_demand.items():\n",
    "        for node in G.nodes:\n",
    "            inflow = sum(x[(i, j, u, v)] for u, v in G.in_edges(node))\n",
    "            outflow = sum(x[(i, j, u, v)] for u, v, in G.out_edges(node))\n",
    "            if node == i:\n",
    "                model.addConstr(outflow - inflow == 1, name=f\"flow_src_{i}_{j}_{node}\")\n",
    "            elif node == j:\n",
    "                model.addConstr(inflow - outflow == 1, name=f\"flow_dst_{i}_{j}_{node}\")\n",
    "            else:\n",
    "                model.addConstr(inflow - outflow == 0, name=f\"flow_mid_{i}_{j}_{node}\")\n",
    "\n",
    "    # Constrainte de capacité \n",
    "    for u, v in G.edges:    \n",
    "        model.addConstr(\n",
    "            sum(demand * x[(i, j, u, v)] for (i, j), demand in traffic_demand.items()) <= G[u][v]['capacity'],\n",
    "            name=f\"capacity_{u}_{v}\"\n",
    "        )\n",
    "    \n",
    "    # Objectifs\n",
    "    if objective == \"cost\":\n",
    "        model.setObjective(\n",
    "            sum(x[(i, j, u, v)] * demand * G[u][v]['cost'] for (i, j), demand in traffic_demand.items() for u, v in G.edges),\n",
    "            GRB.MINIMIZE\n",
    "        )\n",
    "    elif objective == \"max_utlilization\":\n",
    "        utilisation = model.addVar(lb=0, ub=GRB.INFINITY, name=\"max_utilisation\")\n",
    "        for u, v in G.edges:\n",
    "            model.addConstr(\n",
    "                utilisation >=\n",
    "                sum(demand * x[(i, j, u, v)] for (i, j), demand in traffic_demand.items()) / G[u][v]['capacity'],\n",
    "                name=f\"utilisation_{u}_{v}\"\n",
    "            )\n",
    "        model.setObjective(utilisation, GRB.MINIMIZE)\n",
    "    elif objective == \"avg_utilisation\":\n",
    "        avg_utilisation = sum(\n",
    "            sum(demand * x[(i, j, u, v)] for (i, j), demand in traffic_demand.items()) / G[u][v]['capacity']\n",
    "            for u, v in G.edges\n",
    "        ) / G.number_of_edges()\n",
    "        model.setObjective(avg_utilisation, GRB.MINIMIZE)\n",
    "    else:\n",
    "        raise ValueError(\"Fonction objectif non reconnue\")\n",
    "\n",
    "    #Résolution\n",
    "    model.optimize()\n",
    "    \n",
    "    # Débogage en cas d'infaisabilité\n",
    "    if model.status == GRB.INFEASIBLE:\n",
    "        print(\"Modèle infaisable. Analyse des conflits...\")\n",
    "        model.computeIIS()\n",
    "        model.write(\"infeasible.ilp\")\n",
    "        print(\"Conflits enregistrés dans infeasible.ilp\")\n",
    "        return None\n",
    "    \n",
    "    #Extraction de la solution\n",
    "    if model.status == GRB.OPTIMAL:\n",
    "        solution = {key: var.x for key, var in x.items() if var.x > 0}\n",
    "        return solution, model.ObjVal\n",
    "    else:\n",
    "        raise Exception(\"Pas de solution optimale trouvée\")\n",
    "    "
   ]
  },
  {
   "cell_type": "markdown",
   "metadata": {},
   "source": [
    "Fonction de test de la résolution d'une instance de graphe"
   ]
  },
  {
   "cell_type": "code",
   "execution_count": 15,
   "metadata": {},
   "outputs": [],
   "source": [
    "def test_program(graph_type, n_nodes, S_size, demand_range, capacity_range, cost_range, objective, filename):\n",
    "    \"\"\"\n",
    "    Teste le programme de résolution de PL sur un type de graphe\n",
    "\n",
    "    Args:\n",
    "        graph_type (string): type de graphe \n",
    "        n_nodes (int): nombre de node dans V\n",
    "        S_size (int): nombre de node dans S\n",
    "        demand_range (tuple): tuple de 2 int pour le range des valeurs de demande \n",
    "        capacity_range (tuple): tuple de 2 int pour le range des valeurs de capacité\n",
    "        cost_range (tuple): tuple de 2 int pour le range des valeurs de capacité\n",
    "        objective (string): nom de la fonction objective choisi (cost, max_utlilization, avg_utlilization)\n",
    "    \"\"\"\n",
    "    G = generate_graph(graph_type, n_nodes, 0.3)\n",
    "    G = assign_capacities_and_costs(G, capacity_range, cost_range)\n",
    "    S, traffic_demand = generate_traffic_demand(G, S_size, demand_range)\n",
    "    save_to_csv(G, S, traffic_demand, filename)\n",
    "    solution, optimal_value = solve_linear_program(G, traffic_demand, objective)\n",
    "    print(f\"Solution optimale pour {objective}:\", solution)\n",
    "    print(f\"Valeur optimale pour {objective}: {optimal_value}\")"
   ]
  },
  {
   "cell_type": "markdown",
   "metadata": {},
   "source": [
    "Graphe de type Random"
   ]
  },
  {
   "cell_type": "code",
   "execution_count": 27,
   "metadata": {},
   "outputs": [
    {
     "name": "stdout",
     "output_type": "stream",
     "text": [
      "Gurobi Optimizer version 12.0.0 build v12.0.0rc1 (win64 - Windows 11.0 (22631.2))\n",
      "\n",
      "CPU model: AMD Ryzen 7 3700U with Radeon Vega Mobile Gfx, instruction set [SSE2|AVX|AVX2]\n",
      "Thread count: 4 physical cores, 8 logical processors, using up to 8 threads\n",
      "\n",
      "Optimize a model with 373 rows, 1460 columns and 4380 nonzeros\n",
      "Model fingerprint: 0xbcbcf2da\n",
      "Coefficient statistics:\n",
      "  Matrix range     [1e+00, 2e+01]\n",
      "  Objective range  [3e+00, 9e+01]\n",
      "  Bounds range     [1e+00, 1e+00]\n",
      "  RHS range        [1e+00, 2e+01]\n",
      "Presolve removed 20 rows and 0 columns\n",
      "Presolve time: 0.02s\n",
      "Presolved: 353 rows, 1460 columns, 4161 nonzeros\n",
      "\n",
      "Iteration    Objective       Primal Inf.    Dual Inf.      Time\n",
      "       0    0.0000000e+00   5.500000e+01   0.000000e+00      0s\n",
      "     234    9.8133277e+02   0.000000e+00   0.000000e+00      0s\n",
      "\n",
      "Solved in 234 iterations and 0.03 seconds (0.00 work units)\n",
      "Optimal objective  9.813327696e+02\n",
      "Solution optimale pour cost: {(13, 2, 3, 2): 1.0, (13, 2, 4, 3): 1.0, (13, 2, 13, 4): 1.0, (13, 0, 12, 0): 1.0, (13, 0, 13, 12): 1.0, (13, 8, 6, 8): 0.8421052631578947, (13, 8, 12, 14): 0.1578947368421053, (13, 8, 13, 6): 0.8421052631578947, (13, 8, 13, 12): 0.1578947368421053, (13, 8, 14, 8): 0.1578947368421053, (13, 1, 5, 1): 1.0, (13, 1, 7, 5): 1.0, (13, 1, 13, 7): 1.0, (2, 13, 2, 13): 1.0, (2, 0, 2, 8): 0.5384615384615384, (2, 0, 2, 13): 0.46153846153846156, (2, 0, 4, 0): 0.7692307692307693, (2, 0, 8, 4): 0.46153846153846156, (2, 0, 8, 9): 0.07692307692307687, (2, 0, 9, 11): 0.07692307692307687, (2, 0, 11, 0): 0.07692307692307687, (2, 0, 12, 0): 0.15384615384615385, (2, 0, 13, 4): 0.3076923076923077, (2, 0, 13, 12): 0.15384615384615385, (2, 8, 2, 8): 1.0, (2, 1, 2, 8): 0.4, (2, 1, 2, 10): 0.5333333333333333, (2, 1, 2, 13): 0.06666666666666665, (2, 1, 5, 1): 0.06666666666666667, (2, 1, 6, 1): 0.7999999999999999, (2, 1, 7, 5): 0.06666666666666667, (2, 1, 8, 9): 0.1333333333333334, (2, 1, 8, 14): 0.2666666666666666, (2, 1, 9, 11): 0.1333333333333334, (2, 1, 10, 6): 0.5333333333333333, (2, 1, 11, 1): 0.1333333333333334, (2, 1, 13, 7): 0.06666666666666667, (2, 1, 14, 6): 0.2666666666666666, (0, 13, 0, 13): 1.0, (0, 2, 0, 1): 1.0, (0, 2, 1, 2): 1.0, (0, 8, 0, 11): 1.0, (0, 8, 1, 8): 0.6, (0, 8, 6, 8): 0.3, (0, 8, 6, 14): 0.09999999999999987, (0, 8, 10, 6): 0.3999999999999999, (0, 8, 11, 1): 0.6000000000000001, (0, 8, 11, 10): 0.3999999999999999, (0, 8, 14, 8): 0.09999999999999987, (0, 1, 0, 1): 1.0, (8, 13, 8, 14): 1.0, (8, 13, 14, 13): 1.0, (8, 2, 8, 2): 1.0, (8, 0, 4, 0): 1.0, (8, 0, 8, 4): 1.0, (8, 1, 8, 9): 1.0, (8, 1, 9, 11): 1.0, (8, 1, 11, 1): 1.0, (1, 13, 1, 2): 0.11764705882352941, (1, 13, 1, 13): 0.8235294117647058, (1, 13, 1, 14): 0.05882352941176475, (1, 13, 2, 13): 0.11764705882352941, (1, 13, 14, 13): 0.05882352941176475, (1, 2, 1, 2): 1.0, (1, 0, 1, 0): 1.0, (1, 8, 1, 8): 1.0}\n",
      "Valeur optimale pour cost: 981.3327695886198\n"
     ]
    }
   ],
   "source": [
    "# Exemple d'utilisation\n",
    "if __name__ == \"__main__\":\n",
    "    # Paramètres\n",
    "    graph_type = 'random'  # Type de graphe : 'complete', 'cycle', 'random'\n",
    "    n_nodes = 15  # Nombre de nœuds\n",
    "    capacity_range = (10, 20)  # Capacités des arcs\n",
    "    cost_range = (1.0, 5.0)  # Coûts de routage\n",
    "    S_size = 5  # Taille de l'ensemble S\n",
    "    demand_range = (1, 20)  # Intervalle des demandes de trafic\n",
    "    filename = 'graph_random.csv'  # Nom du fichier CSV\n",
    "    objective = \"cost\" # Choix de la fonction objective \n",
    "    test_program(graph_type, n_nodes, S_size, demand_range, capacity_range, cost_range, objective, filename)\n",
    "    \n",
    "    "
   ]
  },
  {
   "cell_type": "markdown",
   "metadata": {},
   "source": [
    "Graphe de type complet"
   ]
  },
  {
   "cell_type": "code",
   "execution_count": 29,
   "metadata": {},
   "outputs": [
    {
     "name": "stdout",
     "output_type": "stream",
     "text": [
      "Gurobi Optimizer version 12.0.0 build v12.0.0rc1 (win64 - Windows 11.0 (22631.2))\n",
      "\n",
      "CPU model: AMD Ryzen 7 3700U with Radeon Vega Mobile Gfx, instruction set [SSE2|AVX|AVX2]\n",
      "Thread count: 4 physical cores, 8 logical processors, using up to 8 threads\n",
      "\n",
      "Optimize a model with 104 rows, 336 columns and 1008 nonzeros\n",
      "Model fingerprint: 0xfa145377\n",
      "Coefficient statistics:\n",
      "  Matrix range     [1e+00, 2e+01]\n",
      "  Objective range  [2e+00, 9e+01]\n",
      "  Bounds range     [1e+00, 1e+00]\n",
      "  RHS range        [1e+00, 2e+01]\n",
      "Presolve removed 6 rows and 0 columns\n",
      "Presolve time: 0.02s\n",
      "Presolved: 98 rows, 336 columns, 924 nonzeros\n",
      "\n",
      "Iteration    Objective       Primal Inf.    Dual Inf.      Time\n",
      "       0    0.0000000e+00   1.600000e+01   0.000000e+00      0s\n",
      "      38    2.1551595e+02   0.000000e+00   0.000000e+00      0s\n",
      "\n",
      "Solved in 38 iterations and 0.03 seconds (0.00 work units)\n",
      "Optimal objective  2.155159547e+02\n",
      "Solution optimale pour cost: {(7, 3, 7, 3): 1.0, (7, 0, 7, 0): 1.0, (3, 7, 3, 7): 1.0, (3, 0, 3, 0): 1.0, (0, 7, 0, 1): 0.11111111111111116, (0, 7, 0, 7): 0.8888888888888888, (0, 7, 1, 7): 0.11111111111111116, (0, 3, 0, 2): 0.0625, (0, 3, 0, 3): 0.9375, (0, 3, 2, 3): 0.0625}\n",
      "Valeur optimale pour cost: 215.5159546866027\n"
     ]
    }
   ],
   "source": [
    "# Exemple d'utilisation pour un graphe complet\n",
    "if __name__ == \"__main__\":\n",
    "    # Paramètres pour le graphe complet\n",
    "    graph_type = 'complete'  # Type de graphe : 'complete', 'cycle', 'random'\n",
    "    n_nodes = 8  # Nombre de nœuds\n",
    "    capacity_range = (10, 20)  # Capacités des arcs\n",
    "    cost_range = (1.0, 5.0)  # Coûts de routage\n",
    "    S_size = 3 # Taille de l'ensemble S\n",
    "    demand_range = (1, 20)  # Intervalle des demandes de trafic\n",
    "    filename = 'graph_complete.csv'  # Nom du fichier CSV\n",
    "    objective = \"cost\" # Choix de la fonction objective \n",
    "    test_program(graph_type, n_nodes, S_size, demand_range, capacity_range, cost_range, objective, filename)"
   ]
  },
  {
   "cell_type": "markdown",
   "metadata": {},
   "source": [
    "Graphe de type cycle"
   ]
  },
  {
   "cell_type": "code",
   "execution_count": 35,
   "metadata": {
    "vscode": {
     "languageId": "ruby"
    }
   },
   "outputs": [
    {
     "name": "stdout",
     "output_type": "stream",
     "text": [
      "Gurobi Optimizer version 12.0.0 build v12.0.0rc1 (win64 - Windows 11.0 (22631.2))\n",
      "\n",
      "CPU model: AMD Ryzen 7 3700U with Radeon Vega Mobile Gfx, instruction set [SSE2|AVX|AVX2]\n",
      "Thread count: 4 physical cores, 8 logical processors, using up to 8 threads\n",
      "\n",
      "Optimize a model with 42 rows, 36 columns and 108 nonzeros\n",
      "Model fingerprint: 0x2a2bbebd\n",
      "Coefficient statistics:\n",
      "  Matrix range     [1e+00, 2e+01]\n",
      "  Objective range  [3e+00, 1e+02]\n",
      "  Bounds range     [1e+00, 1e+00]\n",
      "  RHS range        [1e+00, 6e+01]\n",
      "Presolve removed 42 rows and 36 columns\n",
      "Presolve time: 0.00s\n",
      "Presolve: All rows and columns removed\n",
      "Iteration    Objective       Primal Inf.    Dual Inf.      Time\n",
      "       0    5.1660903e+02   0.000000e+00   0.000000e+00      0s\n",
      "\n",
      "Solved in 0 iterations and 0.02 seconds (0.00 work units)\n",
      "Optimal objective  5.166090321e+02\n",
      "Solution optimale pour cost: {(1, 0, 1, 2): 1.0, (1, 0, 2, 3): 1.0, (1, 0, 3, 4): 1.0, (1, 0, 4, 5): 1.0, (1, 0, 5, 0): 1.0, (1, 2, 1, 2): 1.0, (0, 1, 0, 1): 1.0, (0, 2, 0, 1): 1.0, (0, 2, 1, 2): 1.0, (2, 1, 0, 1): 1.0, (2, 1, 2, 3): 1.0, (2, 1, 3, 4): 1.0, (2, 1, 4, 5): 1.0, (2, 1, 5, 0): 1.0, (2, 0, 2, 3): 1.0, (2, 0, 3, 4): 1.0, (2, 0, 4, 5): 1.0, (2, 0, 5, 0): 1.0}\n",
      "Valeur optimale pour cost: 516.6090321321374\n"
     ]
    }
   ],
   "source": [
    "# Exemple d'utilisation pour un graphe cycle\n",
    "if __name__ == \"__main__\":\n",
    "    # Paramètres pour le graphe cycle\n",
    "    graph_type = 'cycle'  # Type de graphe : 'complete', 'cycle', 'random'\n",
    "    n_nodes = 6  # Nombre de nœuds\n",
    "    capacity_range = (40, 60)  # Capacités des arcs\n",
    "    cost_range = (1.0, 5.0)  # Coûts de routage\n",
    "    S_size = 3 # Taille de l'ensemble S\n",
    "    demand_range = (1, 20)  # Intervalle des demandes de trafic\n",
    "    filename = 'graph_cycle.csv'  # Nom du fichier CSV\n",
    "    objective = \"cost\" # Choix de la fonction objective \n",
    "    test_program(graph_type, n_nodes, S_size, demand_range, capacity_range, cost_range, objective, filename)"
   ]
  },
  {
   "cell_type": "markdown",
   "metadata": {},
   "source": [
    "Méthode de la somme pondérée"
   ]
  },
  {
   "cell_type": "code",
   "execution_count": 31,
   "metadata": {
    "vscode": {
     "languageId": "ruby"
    }
   },
   "outputs": [],
   "source": [
    "# Implémentation des méthodes d'obtention de solutions efficaces\n",
    "def weighted_sum_method(G, traffic_demand, weights):\n",
    "    \"\"\"\n",
    "    Implémente la méthode des sommes pondées pour le routage multiobjectif.\n",
    "    :param G: Graphe orienté.\n",
    "    :param traffic_demand: Dictionnaire des demandes de trafic.\n",
    "    :param weights: Poids pour les objectifs (liste de trois poids).\n",
    "    :return: Solution optimale et valeur des objectifs.\n",
    "    \"\"\"\n",
    "    model = Model(\"WeightedSumRouting\")\n",
    "\n",
    "    # Variables de décision\n",
    "    x = {}\n",
    "    for (i, j), demand in traffic_demand.items():\n",
    "        for u, v in G.edges:\n",
    "            x[(i, j, u, v)] = model.addVar(lb=0, ub=1, name=f\"x_{i}_{j}_{u}_{v}\")\n",
    "\n",
    "    # Contraintes de conservation de flux\n",
    "    for (i, j), demand in traffic_demand.items():\n",
    "        for node in G.nodes:\n",
    "            inflow = sum(x[(i, j, u, v)] for u, v in G.in_edges(node))\n",
    "            outflow = sum(x[(i, j, u, v)] for u, v in G.out_edges(node))\n",
    "            if node == i:\n",
    "                model.addConstr(outflow - inflow == 1, name=f\"flow_src_{i}_{j}_{node}\")\n",
    "            elif node == j:\n",
    "                model.addConstr(inflow - outflow == 1, name=f\"flow_dst_{i}_{j}_{node}\")\n",
    "            else:\n",
    "                model.addConstr(inflow - outflow == 0, name=f\"flow_mid_{i}_{j}_{node}\")\n",
    "\n",
    "    # Contraintes de capacité\n",
    "    for u, v in G.edges:\n",
    "        model.addConstr(\n",
    "            sum(demand * x[(i, j, u, v)] for (i, j), demand in traffic_demand.items()) <= G[u][v]['capacity'],\n",
    "            name=f\"capacity_{u}_{v}\"\n",
    "        )\n",
    "\n",
    "    # Objectifs individuels\n",
    "    cost = sum(\n",
    "        x[(i, j, u, v)] * demand * G[u][v]['cost'] for (i, j), demand in traffic_demand.items() for u, v in G.edges\n",
    "    )\n",
    "\n",
    "    max_utilization = model.addVar(lb=0, ub=GRB.INFINITY, name=\"max_utilization\")\n",
    "    for u, v in G.edges:\n",
    "        model.addConstr(\n",
    "            max_utilization >=\n",
    "            sum(demand * x[(i, j, u, v)] for (i, j), demand in traffic_demand.items()) / G[u][v]['capacity'],\n",
    "            name=f\"utilization_{u}_{v}\"\n",
    "        )\n",
    "\n",
    "    avg_utilization = sum(\n",
    "        sum(demand * x[(i, j, u, v)] for (i, j), demand in traffic_demand.items()) / G[u][v]['capacity']\n",
    "        for u, v in G.edges\n",
    "    ) / G.number_of_edges()\n",
    "\n",
    "    # Fonction objectif pondérée\n",
    "    model.setObjective(weights[0] * cost + weights[1] * max_utilization + weights[2] * avg_utilization, GRB.MINIMIZE)\n",
    "\n",
    "    # Résolution\n",
    "    model.optimize()\n",
    "\n",
    "    # Extraction des résultats\n",
    "    if model.status == GRB.OPTIMAL:\n",
    "        solution = {key: var.x for key, var in x.items() if var.x > 0}\n",
    "        return solution, cost.getValue(), max_utilization.x, avg_utilization.getValue()\n",
    "    else:\n",
    "        raise Exception(\"Modèle non résolu (statut: {model.status})\")\n",
    "\n",
    "def test_weighted_sum(graph_type, n_nodes, S_size, demand_range, capacity_range, cost_range, filename):\n",
    "    \"\"\"\n",
    "    Teste le programme de résolution de PL sur un type de graphe\n",
    "\n",
    "    Args:\n",
    "        graph_type (string): type de graphe \n",
    "        n_nodes (int): nombre de node dans V\n",
    "        S_size (int): nombre de node dans S\n",
    "        demand_range (tuple): tuple de 2 int pour le range des valeurs de demande \n",
    "        capacity_range (tuple): tuple de 2 int pour le range des valeurs de capacité\n",
    "        cost_range (tuple): tuple de 2 int pour le range des valeurs de capacité\n",
    "        objective (string): nom de la fonction objective choisi (cost, max_utlilization, avg_utlilization)\n",
    "    \"\"\"\n",
    "    G = generate_graph(graph_type, n_nodes, 0.3)\n",
    "    G = assign_capacities_and_costs(G, capacity_range, cost_range)\n",
    "    S, traffic_demand = generate_traffic_demand(G, S_size, demand_range)\n",
    "    save_to_csv(G, S, traffic_demand, filename)\n",
    "    weights = [0.5, 0.3, 0.2]  # Pondérations des objectifs\n",
    "    solution, cost, max_util, avg_util = weighted_sum_method(G, traffic_demand, weights)\n",
    "    print(\"Solution optimale :\", solution)\n",
    "    print(\"Coût total :\", cost)\n",
    "    print(\"Utilisation maximale :\", max_util)\n",
    "    print(\"Utilisation moyenne :\", avg_util)"
   ]
  },
  {
   "cell_type": "markdown",
   "metadata": {},
   "source": [
    "Test des différents graphe pour la méthode de la somme pondérée"
   ]
  },
  {
   "cell_type": "markdown",
   "metadata": {},
   "source": [
    "Graphe cycle"
   ]
  },
  {
   "cell_type": "code",
   "execution_count": 34,
   "metadata": {
    "vscode": {
     "languageId": "ruby"
    }
   },
   "outputs": [
    {
     "name": "stdout",
     "output_type": "stream",
     "text": [
      "Gurobi Optimizer version 12.0.0 build v12.0.0rc1 (win64 - Windows 11.0 (22631.2))\n",
      "\n",
      "CPU model: AMD Ryzen 7 3700U with Radeon Vega Mobile Gfx, instruction set [SSE2|AVX|AVX2]\n",
      "Thread count: 4 physical cores, 8 logical processors, using up to 8 threads\n",
      "\n",
      "Optimize a model with 48 rows, 37 columns and 150 nonzeros\n",
      "Model fingerprint: 0xe5b4c485\n",
      "Coefficient statistics:\n",
      "  Matrix range     [8e-02, 2e+01]\n",
      "  Objective range  [3e-01, 4e+01]\n",
      "  Bounds range     [1e+00, 1e+00]\n",
      "  RHS range        [1e+00, 6e+01]\n",
      "Presolve removed 48 rows and 37 columns\n",
      "Presolve time: 0.02s\n",
      "Presolve: All rows and columns removed\n",
      "Iteration    Objective       Primal Inf.    Dual Inf.      Time\n",
      "       0    3.0153975e+02   0.000000e+00   0.000000e+00      0s\n",
      "\n",
      "Solved in 0 iterations and 0.02 seconds (0.00 work units)\n",
      "Optimal objective  3.015397463e+02\n",
      "Solution optimale : {(2, 5, 2, 3): 1.0, (2, 5, 3, 4): 1.0, (2, 5, 4, 5): 1.0, (2, 0, 2, 3): 1.0, (2, 0, 3, 4): 1.0, (2, 0, 4, 5): 1.0, (2, 0, 5, 0): 1.0, (5, 2, 0, 1): 1.0, (5, 2, 1, 2): 1.0, (5, 2, 5, 0): 1.0, (5, 0, 5, 0): 1.0, (0, 2, 0, 1): 1.0, (0, 2, 1, 2): 1.0, (0, 5, 0, 1): 1.0, (0, 5, 1, 2): 1.0, (0, 5, 2, 3): 1.0, (0, 5, 3, 4): 1.0, (0, 5, 4, 5): 1.0}\n",
      "Coût total : 602.2919260443043\n",
      "Utilisation maximale : 0.875\n",
      "Utilisation moyenne : 0.6564164178175935\n"
     ]
    }
   ],
   "source": [
    "# Exemple d'utilisation de la somme pondérée pour un graphe cycle\n",
    "if __name__ == \"__main__\":\n",
    "    # Paramètres pour le graphe cycle\n",
    "    graph_type = 'cycle'  # Type de graphe : 'complete', 'cycle', 'random'\n",
    "    n_nodes = 6  # Nombre de nœuds\n",
    "    capacity_range = (40, 60)  # Capacités des arcs\n",
    "    cost_range = (1.0, 5.0)  # Coûts de routage\n",
    "    S_size = 3 # Taille de l'ensemble S\n",
    "    demand_range = (1, 20)  # Intervalle des demandes de trafic\n",
    "    filename = 'graph_cycle_weighted_sum.csv'  # Nom du fichier CSV\n",
    "    test_weighted_sum(graph_type, n_nodes, S_size, demand_range, capacity_range, cost_range, filename)"
   ]
  },
  {
   "cell_type": "markdown",
   "metadata": {},
   "source": [
    "Graphe complet "
   ]
  },
  {
   "cell_type": "code",
   "execution_count": 36,
   "metadata": {
    "vscode": {
     "languageId": "ruby"
    }
   },
   "outputs": [
    {
     "name": "stdout",
     "output_type": "stream",
     "text": [
      "Gurobi Optimizer version 12.0.0 build v12.0.0rc1 (win64 - Windows 11.0 (22631.2))\n",
      "\n",
      "CPU model: AMD Ryzen 7 3700U with Radeon Vega Mobile Gfx, instruction set [SSE2|AVX|AVX2]\n",
      "Thread count: 4 physical cores, 8 logical processors, using up to 8 threads\n",
      "\n",
      "Optimize a model with 96 rows, 181 columns and 750 nonzeros\n",
      "Model fingerprint: 0xe33f4f03\n",
      "Coefficient statistics:\n",
      "  Matrix range     [3e-02, 2e+01]\n",
      "  Objective range  [3e-01, 5e+01]\n",
      "  Bounds range     [1e+00, 1e+00]\n",
      "  RHS range        [1e+00, 6e+01]\n",
      "Presolve removed 6 rows and 0 columns\n",
      "Presolve time: 0.02s\n",
      "Presolved: 90 rows, 181 columns, 690 nonzeros\n",
      "\n",
      "Iteration    Objective       Primal Inf.    Dual Inf.      Time\n",
      "       0    0.0000000e+00   2.600000e+01   0.000000e+00      0s\n",
      "      15    7.5009751e+01   0.000000e+00   0.000000e+00      0s\n",
      "\n",
      "Solved in 15 iterations and 0.02 seconds (0.00 work units)\n",
      "Optimal objective  7.500975122e+01\n",
      "Solution optimale : {(4, 0, 2, 0): 1.0, (4, 0, 4, 2): 1.0, (4, 3, 4, 3): 1.0, (0, 4, 0, 3): 1.0, (0, 4, 3, 4): 1.0, (0, 3, 0, 3): 1.0, (3, 4, 3, 4): 1.0, (3, 0, 2, 0): 1.0, (3, 0, 3, 2): 1.0}\n",
      "Coût total : 149.68339119102671\n",
      "Utilisation maximale : 0.5238095238095237\n",
      "Utilisation moyenne : 0.054563814031359674\n"
     ]
    }
   ],
   "source": [
    "# Exemple d'utilisation de la somme pondérée pour un graphe cycle\n",
    "if __name__ == \"__main__\":\n",
    "    # Paramètres pour le graphe cycle\n",
    "    graph_type = 'complete'  # Type de graphe : 'complete', 'cycle', 'random'\n",
    "    n_nodes = 6  # Nombre de nœuds\n",
    "    capacity_range = (40, 60)  # Capacités des arcs\n",
    "    cost_range = (1.0, 5.0)  # Coûts de routage\n",
    "    S_size = 3 # Taille de l'ensemble S\n",
    "    demand_range = (1, 20)  # Intervalle des demandes de trafic\n",
    "    filename = 'graph_complete_weighted_sum.csv'  # Nom du fichier CSV\n",
    "    test_weighted_sum(graph_type, n_nodes, S_size, demand_range, capacity_range, cost_range, filename)"
   ]
  },
  {
   "cell_type": "markdown",
   "metadata": {},
   "source": [
    "Graphe random"
   ]
  },
  {
   "cell_type": "code",
   "execution_count": 37,
   "metadata": {
    "vscode": {
     "languageId": "ruby"
    }
   },
   "outputs": [
    {
     "name": "stdout",
     "output_type": "stream",
     "text": [
      "Gurobi Optimizer version 12.0.0 build v12.0.0rc1 (win64 - Windows 11.0 (22631.2))\n",
      "\n",
      "CPU model: AMD Ryzen 7 3700U with Radeon Vega Mobile Gfx, instruction set [SSE2|AVX|AVX2]\n",
      "Thread count: 4 physical cores, 8 logical processors, using up to 8 threads\n",
      "\n",
      "Optimize a model with 62 rows, 79 columns and 325 nonzeros\n",
      "Model fingerprint: 0xba567c9d\n",
      "Coefficient statistics:\n",
      "  Matrix range     [7e-02, 2e+01]\n",
      "  Objective range  [3e-01, 4e+01]\n",
      "  Bounds range     [1e+00, 1e+00]\n",
      "  RHS range        [1e+00, 6e+01]\n",
      "Presolve removed 27 rows and 31 columns\n",
      "Presolve time: 0.02s\n",
      "Presolved: 35 rows, 48 columns, 170 nonzeros\n",
      "\n",
      "Iteration    Objective       Primal Inf.    Dual Inf.      Time\n",
      "       0    1.5086426e+02   1.100000e+01   0.000000e+00      0s\n",
      "      10    2.2926257e+02   0.000000e+00   0.000000e+00      0s\n",
      "\n",
      "Solved in 10 iterations and 0.04 seconds (0.00 work units)\n",
      "Optimal objective  2.292625660e+02\n",
      "Solution optimale : {(2, 5, 2, 5): 1.0, (2, 0, 2, 3): 1.0, (2, 0, 3, 4): 1.0, (2, 0, 4, 0): 1.0, (5, 2, 5, 2): 1.0, (5, 0, 1, 0): 1.0, (5, 0, 5, 1): 1.0, (0, 2, 0, 2): 1.0, (0, 5, 0, 2): 1.0, (0, 5, 2, 5): 1.0}\n",
      "Coût total : 458.08523168050806\n",
      "Utilisation maximale : 0.6122448979591837\n",
      "Utilisation moyenne : 0.18138363116176806\n"
     ]
    }
   ],
   "source": [
    "# Exemple d'utilisation de la somme pondérée pour un graphe cycle\n",
    "if __name__ == \"__main__\":\n",
    "    # Paramètres pour le graphe cycle\n",
    "    graph_type = 'random'  # Type de graphe : 'complete', 'cycle', 'random'\n",
    "    n_nodes = 6  # Nombre de nœuds\n",
    "    capacity_range = (40, 60)  # Capacités des arcs\n",
    "    cost_range = (1.0, 5.0)  # Coûts de routage\n",
    "    S_size = 3 # Taille de l'ensemble S\n",
    "    demand_range = (1, 20)  # Intervalle des demandes de trafic\n",
    "    filename = 'graph_random_weighted_sum.csv'  # Nom du fichier CSV\n",
    "    test_weighted_sum(graph_type, n_nodes, S_size, demand_range, capacity_range, cost_range, filename)"
   ]
  },
  {
   "cell_type": "markdown",
   "metadata": {},
   "source": [
    "Epsilon contrainte "
   ]
  },
  {
   "cell_type": "code",
   "execution_count": 33,
   "metadata": {
    "vscode": {
     "languageId": "ruby"
    }
   },
   "outputs": [],
   "source": [
    "def epsilon_constraint_method(G, traffic_demand, primary_objective, secondary_objective, epsilon):\n",
    "    \"\"\"\n",
    "    Implémente la méthode des ε-contraintes pour le routage multiobjectif.\n",
    "    :param G: Graphe orienté.\n",
    "    :param traffic_demand: Dictionnaire des demandes de trafic.\n",
    "    :param primary_objective: Objectif principal ('cost', 'max_utilization', 'avg_utilization').\n",
    "    :param secondary_objective: Objectif secondaire pour les contraintes.\n",
    "    :param epsilon: Valeur limite pour l'objectif secondaire.\n",
    "    :return: Solution optimale et valeur des objectifs.\n",
    "    \"\"\"\n",
    "    model = Model(\"EpsilonConstraintRouting\")\n",
    "\n",
    "    # Variables de décision\n",
    "    x = {}\n",
    "    for (i, j), demand in traffic_demand.items():\n",
    "        for u, v in G.edges:\n",
    "            x[(i, j, u, v)] = model.addVar(lb=0, ub=1, name=f\"x_{i}_{j}_{u}_{v}\")\n",
    "\n",
    "    # Contraintes de conservation de flux\n",
    "    for (i, j), demand in traffic_demand.items():\n",
    "        for node in G.nodes:\n",
    "            inflow = sum(x[(i, j, u, v)] for u, v in G.in_edges(node))\n",
    "            outflow = sum(x[(i, j, u, v)] for u, v in G.out_edges(node))\n",
    "            if node == i:\n",
    "                model.addConstr(outflow - inflow == 1, name=f\"flow_src_{i}_{j}_{node}\")\n",
    "            elif node == j:\n",
    "                model.addConstr(inflow - outflow == 1, name=f\"flow_dst_{i}_{j}_{node}\")\n",
    "            else:\n",
    "                model.addConstr(inflow - outflow == 0, name=f\"flow_mid_{i}_{j}_{node}\")\n",
    "\n",
    "    # Contraintes de capacité\n",
    "    for u, v in G.edges:\n",
    "        model.addConstr(\n",
    "            sum(demand * x[(i, j, u, v)] for (i, j), demand in traffic_demand.items()) <= G[u][v]['capacity'],\n",
    "            name=f\"capacity_{u}_{v}\"\n",
    "        )\n",
    "\n",
    "    # Objectifs individuels\n",
    "    cost = sum(\n",
    "        x[(i, j, u, v)] * demand * G[u][v]['cost'] for (i, j), demand in traffic_demand.items() for u, v in G.edges\n",
    "    )\n",
    "\n",
    "    max_utilization = model.addVar(lb=0, ub=GRB.INFINITY, name=\"max_utilization\")\n",
    "    for u, v in G.edges:\n",
    "        model.addConstr(\n",
    "            max_utilization >=\n",
    "            sum(demand * x[(i, j, u, v)] for (i, j), demand in traffic_demand.items()) / G[u][v]['capacity'],\n",
    "            name=f\"utilization_{u}_{v}\"\n",
    "        )\n",
    "\n",
    "    avg_utilization = sum(\n",
    "        sum(demand * x[(i, j, u, v)] for (i, j), demand in traffic_demand.items()) / G[u][v]['capacity']\n",
    "        for u, v in G.edges\n",
    "    ) / G.number_of_edges()\n",
    "\n",
    "    # Contraintes sur l'objectif secondaire\n",
    "    if secondary_objective == 'cost':\n",
    "        model.addConstr(cost <= epsilon, name=\"epsilon_cost\")\n",
    "    elif secondary_objective == 'max_utilization':\n",
    "        model.addConstr(max_utilization <= epsilon, name=\"epsilon_max_utilization\")\n",
    "    elif secondary_objective == 'avg_utilization':\n",
    "        model.addConstr(avg_utilization <= epsilon, name=\"epsilon_avg_utilization\")\n",
    "    else:\n",
    "        raise ValueError(\"Objectif secondaire non reconnu\")\n",
    "\n",
    "    # Objectif principal\n",
    "    if primary_objective == 'cost':\n",
    "        model.setObjective(cost, GRB.MINIMIZE)\n",
    "    elif primary_objective == 'max_utilization':\n",
    "        model.setObjective(max_utilization, GRB.MINIMIZE)\n",
    "    elif primary_objective == 'avg_utilization':\n",
    "        model.setObjective(avg_utilization, GRB.MINIMIZE)\n",
    "    else:\n",
    "        raise ValueError(\"Objectif principal non reconnu\")\n",
    "\n",
    "    # Résolution\n",
    "    model.optimize()\n",
    "\n",
    "    # Extraction des résultats\n",
    "    if model.status == GRB.OPTIMAL:\n",
    "        solution = {key: var.x for key, var in x.items() if var.x > 0}\n",
    "        return solution, cost.getValue(), max_utilization.x, avg_utilization.getValue()\n",
    "    else:\n",
    "        raise Exception(\"Modèle non résolu (statut: {model.status})\")\n",
    "\n",
    "def test_epsilon_constraint(graph_type, n_nodes, S_size, demand_range, capacity_range, cost_range, filename):\n",
    "    \"\"\"\n",
    "    Teste le programme de résolution de PL sur un type de graphe\n",
    "\n",
    "    Args:\n",
    "        graph_type (string): type de graphe \n",
    "        n_nodes (int): nombre de node dans V\n",
    "        S_size (int): nombre de node dans S\n",
    "        demand_range (tuple): tuple de 2 int pour le range des valeurs de demande \n",
    "        capacity_range (tuple): tuple de 2 int pour le range des valeurs de capacité\n",
    "        cost_range (tuple): tuple de 2 int pour le range des valeurs de capacité\n",
    "        objective (string): nom de la fonction objective choisi (cost, max_utlilization, avg_utlilization)\n",
    "    \"\"\"\n",
    "    G = generate_graph(graph_type, n_nodes, 0.3)\n",
    "    G = assign_capacities_and_costs(G, capacity_range, cost_range)\n",
    "    S, traffic_demand = generate_traffic_demand(G, S_size, demand_range)\n",
    "    save_to_csv(G, S, traffic_demand, filename)\n",
    "    primary_objective = 'cost'\n",
    "    secondary_objective = 'max_utilization'\n",
    "    epsilon = 2.5\n",
    "    solution, cost, max_util, avg_util = epsilon_constraint_method(G, traffic_demand, primary_objective, secondary_objective, epsilon)\n",
    "    print(\"Solution optimale :\", solution)\n",
    "    print(\"Coût total :\", cost)\n",
    "    print(\"Utilisation maximale :\", max_util)\n",
    "    print(\"Utilisation moyenne :\", avg_util)"
   ]
  },
  {
   "cell_type": "markdown",
   "metadata": {},
   "source": [
    "Test des différents type de graphe pour epsilon methode"
   ]
  },
  {
   "cell_type": "markdown",
   "metadata": {},
   "source": [
    "Graphe cycle "
   ]
  },
  {
   "cell_type": "code",
   "execution_count": 38,
   "metadata": {
    "vscode": {
     "languageId": "ruby"
    }
   },
   "outputs": [
    {
     "name": "stdout",
     "output_type": "stream",
     "text": [
      "Gurobi Optimizer version 12.0.0 build v12.0.0rc1 (win64 - Windows 11.0 (22631.2))\n",
      "\n",
      "CPU model: AMD Ryzen 7 3700U with Radeon Vega Mobile Gfx, instruction set [SSE2|AVX|AVX2]\n",
      "Thread count: 4 physical cores, 8 logical processors, using up to 8 threads\n",
      "\n",
      "Optimize a model with 49 rows, 37 columns and 151 nonzeros\n",
      "Model fingerprint: 0xd3b9606e\n",
      "Coefficient statistics:\n",
      "  Matrix range     [2e-02, 2e+01]\n",
      "  Objective range  [2e+00, 1e+02]\n",
      "  Bounds range     [1e+00, 1e+00]\n",
      "  RHS range        [1e+00, 6e+01]\n",
      "Presolve removed 49 rows and 37 columns\n",
      "Presolve time: 0.01s\n",
      "Presolve: All rows and columns removed\n",
      "Iteration    Objective       Primal Inf.    Dual Inf.      Time\n",
      "       0    5.7144552e+02   0.000000e+00   0.000000e+00      0s\n",
      "\n",
      "Solved in 0 iterations and 0.02 seconds (0.00 work units)\n",
      "Optimal objective  5.714455201e+02\n",
      "Solution optimale : {(3, 5, 3, 4): 1.0, (3, 5, 4, 5): 1.0, (3, 4, 3, 4): 1.0, (5, 3, 0, 1): 1.0, (5, 3, 1, 2): 1.0, (5, 3, 2, 3): 1.0, (5, 3, 5, 0): 1.0, (5, 4, 0, 1): 1.0, (5, 4, 1, 2): 1.0, (5, 4, 2, 3): 1.0, (5, 4, 3, 4): 1.0, (5, 4, 5, 0): 1.0, (4, 3, 0, 1): 1.0, (4, 3, 1, 2): 1.0, (4, 3, 2, 3): 1.0, (4, 3, 4, 5): 1.0, (4, 3, 5, 0): 1.0, (4, 5, 4, 5): 1.0}\n",
      "Coût total : 571.4455200844237\n",
      "Utilisation maximale : 2.5\n",
      "Utilisation moyenne : 0.5226168170391212\n"
     ]
    }
   ],
   "source": [
    "# Exemple d'utilisation de la somme pondérée pour un graphe cycle\n",
    "if __name__ == \"__main__\":\n",
    "    # Paramètres pour le graphe cycle\n",
    "    graph_type = 'cycle'  # Type de graphe : 'complete', 'cycle', 'random'\n",
    "    n_nodes = 6  # Nombre de nœuds\n",
    "    capacity_range = (40, 60)  # Capacités des arcs\n",
    "    cost_range = (1.0, 5.0)  # Coûts de routage\n",
    "    S_size = 3 # Taille de l'ensemble S\n",
    "    demand_range = (1, 20)  # Intervalle des demandes de trafic\n",
    "    filename = 'graph_cycle_epsilon_constraint.csv'  # Nom du fichier CSV\n",
    "    test_epsilon_constraint(graph_type, n_nodes, S_size, demand_range, capacity_range, cost_range, filename)"
   ]
  },
  {
   "cell_type": "markdown",
   "metadata": {},
   "source": [
    "Graphe complete "
   ]
  },
  {
   "cell_type": "code",
   "execution_count": 39,
   "metadata": {
    "vscode": {
     "languageId": "ruby"
    }
   },
   "outputs": [
    {
     "name": "stdout",
     "output_type": "stream",
     "text": [
      "Gurobi Optimizer version 12.0.0 build v12.0.0rc1 (win64 - Windows 11.0 (22631.2))\n",
      "\n",
      "CPU model: AMD Ryzen 7 3700U with Radeon Vega Mobile Gfx, instruction set [SSE2|AVX|AVX2]\n",
      "Thread count: 4 physical cores, 8 logical processors, using up to 8 threads\n",
      "\n",
      "Optimize a model with 97 rows, 181 columns and 751 nonzeros\n",
      "Model fingerprint: 0x53770af7\n",
      "Coefficient statistics:\n",
      "  Matrix range     [8e-02, 2e+01]\n",
      "  Objective range  [6e+00, 9e+01]\n",
      "  Bounds range     [1e+00, 1e+00]\n",
      "  RHS range        [1e+00, 6e+01]\n",
      "Presolve removed 37 rows and 1 columns\n",
      "Presolve time: 0.01s\n",
      "Presolved: 60 rows, 180 columns, 480 nonzeros\n",
      "\n",
      "Iteration    Objective       Primal Inf.    Dual Inf.      Time\n",
      "       0    0.0000000e+00   2.300000e+01   0.000000e+00      0s\n",
      "      17    2.6418991e+02   0.000000e+00   0.000000e+00      0s\n",
      "\n",
      "Solved in 17 iterations and 0.01 seconds (0.00 work units)\n",
      "Optimal objective  2.641899086e+02\n",
      "Solution optimale : {(1, 3, 1, 3): 1.0, (1, 5, 1, 5): 1.0, (3, 1, 3, 1): 1.0, (3, 5, 3, 5): 1.0, (5, 1, 0, 1): 1.0, (5, 1, 5, 0): 1.0, (5, 3, 5, 3): 1.0}\n",
      "Coût total : 264.18990859195384\n",
      "Utilisation maximale : 2.5\n",
      "Utilisation moyenne : 0.0551585869862173\n"
     ]
    }
   ],
   "source": [
    "# Exemple d'utilisation de la somme pondérée pour un graphe cycle\n",
    "if __name__ == \"__main__\":\n",
    "    # Paramètres pour le graphe cycle\n",
    "    graph_type = 'complete'  # Type de graphe : 'complete', 'cycle', 'random'\n",
    "    n_nodes = 6  # Nombre de nœuds\n",
    "    capacity_range = (40, 60)  # Capacités des arcs\n",
    "    cost_range = (1.0, 5.0)  # Coûts de routage\n",
    "    S_size = 3 # Taille de l'ensemble S\n",
    "    demand_range = (1, 20)  # Intervalle des demandes de trafic\n",
    "    filename = 'graph_complete_epsilon_constraint.csv'  # Nom du fichier CSV\n",
    "    test_epsilon_constraint(graph_type, n_nodes, S_size, demand_range, capacity_range, cost_range, filename)"
   ]
  },
  {
   "cell_type": "markdown",
   "metadata": {},
   "source": [
    "Graphe random"
   ]
  },
  {
   "cell_type": "code",
   "execution_count": 55,
   "metadata": {
    "vscode": {
     "languageId": "ruby"
    }
   },
   "outputs": [
    {
     "name": "stdout",
     "output_type": "stream",
     "text": [
      "Gurobi Optimizer version 12.0.0 build v12.0.0rc1 (win64 - Windows 11.0 (22631.2))\n",
      "\n",
      "CPU model: AMD Ryzen 7 3700U with Radeon Vega Mobile Gfx, instruction set [SSE2|AVX|AVX2]\n",
      "Thread count: 4 physical cores, 8 logical processors, using up to 8 threads\n",
      "\n",
      "Optimize a model with 59 rows, 67 columns and 276 nonzeros\n",
      "Model fingerprint: 0x5af61394\n",
      "Coefficient statistics:\n",
      "  Matrix range     [5e-02, 2e+01]\n",
      "  Objective range  [4e+00, 9e+01]\n",
      "  Bounds range     [1e+00, 1e+00]\n",
      "  RHS range        [1e+00, 6e+01]\n",
      "Presolve removed 59 rows and 67 columns\n",
      "Presolve time: 0.01s\n",
      "Presolve: All rows and columns removed\n",
      "Iteration    Objective       Primal Inf.    Dual Inf.      Time\n",
      "       0    5.2779085e+02   0.000000e+00   0.000000e+00      0s\n",
      "\n",
      "Solved in 0 iterations and 0.02 seconds (0.00 work units)\n",
      "Optimal objective  5.277908501e+02\n",
      "Solution optimale : {(1, 0, 1, 3): 1.0, (1, 0, 3, 0): 1.0, (1, 5, 1, 5): 1.0, (0, 1, 0, 3): 1.0, (0, 1, 3, 1): 1.0, (0, 5, 0, 3): 1.0, (0, 5, 1, 5): 1.0, (0, 5, 3, 1): 1.0, (5, 1, 5, 1): 1.0, (5, 0, 1, 3): 1.0, (5, 0, 3, 0): 1.0, (5, 0, 5, 1): 1.0}\n",
      "Coût total : 527.790850053551\n",
      "Utilisation maximale : 2.5\n",
      "Utilisation moyenne : 0.3730891453256297\n"
     ]
    }
   ],
   "source": [
    "# Exemple d'utilisation de la somme pondérée pour un graphe cycle\n",
    "if __name__ == \"__main__\":\n",
    "    # Paramètres pour le graphe cycle\n",
    "    graph_type = 'random'  # Type de graphe : 'complete', 'cycle', 'random'\n",
    "    n_nodes = 6  # Nombre de nœuds\n",
    "    capacity_range = (40, 60)  # Capacités des arcs\n",
    "    cost_range = (1.0, 5.0)  # Coûts de routage\n",
    "    S_size = 3 # Taille de l'ensemble S\n",
    "    demand_range = (1, 20)  # Intervalle des demandes de trafic\n",
    "    filename = 'graph_random_epsilon_constraint.csv'  # Nom du fichier CSV\n",
    "    test_epsilon_constraint(graph_type, n_nodes, S_size, demand_range, capacity_range, cost_range, filename)"
   ]
  },
  {
   "cell_type": "markdown",
   "metadata": {},
   "source": [
    "Méthode lexicographique"
   ]
  },
  {
   "cell_type": "code",
   "execution_count": 58,
   "metadata": {
    "vscode": {
     "languageId": "ruby"
    }
   },
   "outputs": [],
   "source": [
    "def lexicographic_method(G, traffic_demand, objectives):\n",
    "    \"\"\"\n",
    "    Implémente la méthode d'optimisation lexicographique.\n",
    "    :param G: Graphe orienté.\n",
    "    :param traffic_demand: Dictionnaire des demandes de trafic.\n",
    "    :param objectives: Liste d'objectifs par ordre de priorité ('cost', 'max_utilization', 'avg_utilization').\n",
    "    :return: Solution optimale et valeurs des objectifs.\n",
    "    \"\"\"\n",
    "    model = Model(\"LexicographicRouting\")\n",
    "\n",
    "    # Variables de décision\n",
    "    x = {}\n",
    "    for (i, j), demand in traffic_demand.items():\n",
    "        for u, v in G.edges:\n",
    "            x[(i, j, u, v)] = model.addVar(lb=0, ub=1, name=f\"x_{i}_{j}_{u}_{v}\")\n",
    "\n",
    "    # Contraintes de conservation de flux\n",
    "    for (i, j), demand in traffic_demand.items():\n",
    "        for node in G.nodes:\n",
    "            inflow = sum(x[(i, j, u, v)] for u, v in G.in_edges(node))\n",
    "            outflow = sum(x[(i, j, u, v)] for u, v in G.out_edges(node))\n",
    "            if node == i:\n",
    "                model.addConstr(outflow - inflow == 1, name=f\"flow_src_{i}_{j}_{node}\")\n",
    "            elif node == j:\n",
    "                model.addConstr(inflow - outflow == 1, name=f\"flow_dst_{i}_{j}_{node}\")\n",
    "            else:\n",
    "                model.addConstr(inflow - outflow == 0, name=f\"flow_mid_{i}_{j}_{node}\")\n",
    "\n",
    "    # Contraintes de capacité\n",
    "    for u, v in G.edges:\n",
    "        model.addConstr(\n",
    "            sum(demand * x[(i, j, u, v)] for (i, j), demand in traffic_demand.items()) <= G[u][v]['capacity'],\n",
    "            name=f\"capacity_{u}_{v}\"\n",
    "        )\n",
    "\n",
    "    # Objectifs individuels\n",
    "    cost = sum(\n",
    "        x[(i, j, u, v)] * demand * G[u][v]['cost'] for (i, j), demand in traffic_demand.items() for u, v in G.edges\n",
    "    )\n",
    "\n",
    "    max_utilization = model.addVar(lb=0, ub=GRB.INFINITY, name=\"max_utilization\")\n",
    "    for u, v in G.edges:\n",
    "        model.addConstr(\n",
    "            max_utilization >=\n",
    "            sum(demand * x[(i, j, u, v)] for (i, j), demand in traffic_demand.items()) / G[u][v]['capacity'],\n",
    "            name=f\"utilization_{u}_{v}\"\n",
    "        )\n",
    "\n",
    "    avg_utilization = sum(\n",
    "        sum(demand * x[(i, j, u, v)] for (i, j), demand in traffic_demand.items()) / G[u][v]['capacity']\n",
    "        for u, v in G.edges\n",
    "    ) / G.number_of_edges()\n",
    "\n",
    "    # Résolution lexicographique\n",
    "    results = {}\n",
    "    for objective in objectives:\n",
    "        if objective == 'cost':\n",
    "            model.setObjective(cost, GRB.MINIMIZE)\n",
    "        elif objective == 'max_utilization':\n",
    "            model.setObjective(max_utilization, GRB.MINIMIZE)\n",
    "        elif objective == 'avg_utilization':\n",
    "            model.setObjective(avg_utilization, GRB.MINIMIZE)\n",
    "        else:\n",
    "            raise ValueError(\"Objectif non reconnu\")\n",
    "\n",
    "        model.optimize()\n",
    "\n",
    "        if model.status == GRB.OPTIMAL:\n",
    "            results[objective] = model.objVal\n",
    "\n",
    "            # Ajouter les contraintes pour figer l'objectif courant\n",
    "            if objective == 'cost':\n",
    "                model.addConstr(cost <= model.objVal, name=\"fix_cost\")\n",
    "            elif objective == 'max_utilization':\n",
    "                model.addConstr(max_utilization <= model.objVal, name=\"fix_max_utilization\")\n",
    "            elif objective == 'avg_utilization':\n",
    "                model.addConstr(avg_utilization <= model.objVal, name=\"fix_avg_utilization\")\n",
    "        else:\n",
    "            raise Exception(f\"Modèle non résolu pour l'objectif {objective} (statut: {model.status})\")\n",
    "\n",
    "    # Extraction des résultats finaux\n",
    "    solution = {key: var.x for key, var in x.items() if var.x > 0}\n",
    "    return solution, results\n",
    "\n",
    "def test_lexicographique(graph_type, n_nodes, S_size, demand_range, capacity_range, cost_range, filename):\n",
    "    \"\"\"\n",
    "    Teste le programme de résolution de PL sur un type de graphe\n",
    "\n",
    "    Args:\n",
    "        graph_type (string): type de graphe \n",
    "        n_nodes (int): nombre de node dans V\n",
    "        S_size (int): nombre de node dans S\n",
    "        demand_range (tuple): tuple de 2 int pour le range des valeurs de demande \n",
    "        capacity_range (tuple): tuple de 2 int pour le range des valeurs de capacité\n",
    "        cost_range (tuple): tuple de 2 int pour le range des valeurs de capacité\n",
    "        objective (string): nom de la fonction objective choisi (cost, max_utlilization, avg_utlilization)\n",
    "    \"\"\"\n",
    "    G = generate_graph(graph_type, n_nodes, 0.3)\n",
    "    G = assign_capacities_and_costs(G, capacity_range, cost_range)\n",
    "    S, traffic_demand = generate_traffic_demand(G, S_size, demand_range)\n",
    "    save_to_csv(G, S, traffic_demand, filename)\n",
    "    primary_objective = 'cost'\n",
    "    secondary_objective = 'max_utilization'\n",
    "    epsilon = 2.5\n",
    "    objectives = ['cost', 'max_utilization', 'avg_utilization']\n",
    "    solution, results = lexicographic_method(G, traffic_demand, objectives)\n",
    "    print(\"Solution optimale :\", solution)\n",
    "    print(\"Résultats lexicographiques :\", results)"
   ]
  },
  {
   "cell_type": "markdown",
   "metadata": {},
   "source": [
    "Test sur les différents types de graphe de la méthode lexicographique"
   ]
  },
  {
   "cell_type": "markdown",
   "metadata": {},
   "source": [
    "Graphe cycle"
   ]
  },
  {
   "cell_type": "code",
   "execution_count": 130,
   "metadata": {
    "vscode": {
     "languageId": "ruby"
    }
   },
   "outputs": [
    {
     "name": "stdout",
     "output_type": "stream",
     "text": [
      "Gurobi Optimizer version 12.0.0 build v12.0.0rc1 (win64 - Windows 11.0 (22631.2))\n",
      "\n",
      "CPU model: AMD Ryzen 7 3700U with Radeon Vega Mobile Gfx, instruction set [SSE2|AVX|AVX2]\n",
      "Thread count: 4 physical cores, 8 logical processors, using up to 8 threads\n",
      "\n",
      "Optimize a model with 48 rows, 37 columns and 150 nonzeros\n",
      "Model fingerprint: 0x50bab6a2\n",
      "Coefficient statistics:\n",
      "  Matrix range     [2e-01, 1e+01]\n",
      "  Objective range  [8e+00, 5e+01]\n",
      "  Bounds range     [1e+00, 1e+00]\n",
      "  RHS range        [1e+00, 4e+01]\n",
      "Presolve removed 48 rows and 37 columns\n",
      "Presolve time: 0.01s\n",
      "Presolve: All rows and columns removed\n",
      "Iteration    Objective       Primal Inf.    Dual Inf.      Time\n",
      "       0    5.3607364e+02   0.000000e+00   0.000000e+00      0s\n",
      "\n",
      "Solved in 0 iterations and 0.01 seconds (0.00 work units)\n",
      "Optimal objective  5.360736392e+02\n",
      "Gurobi Optimizer version 12.0.0 build v12.0.0rc1 (win64 - Windows 11.0 (22631.2))\n",
      "\n",
      "CPU model: AMD Ryzen 7 3700U with Radeon Vega Mobile Gfx, instruction set [SSE2|AVX|AVX2]\n",
      "Thread count: 4 physical cores, 8 logical processors, using up to 8 threads\n",
      "\n",
      "Optimize a model with 49 rows, 37 columns and 186 nonzeros\n",
      "Coefficient statistics:\n",
      "  Matrix range     [2e-01, 5e+01]\n",
      "  Objective range  [1e+00, 1e+00]\n",
      "  Bounds range     [1e+00, 1e+00]\n",
      "  RHS range        [1e+00, 5e+02]\n",
      "LP warm-start: use basis\n",
      "\n",
      "Iteration    Objective       Primal Inf.    Dual Inf.      Time\n",
      "       0    9.2857143e-01   0.000000e+00   0.000000e+00      0s\n",
      "\n",
      "Solved in 0 iterations and 0.01 seconds (0.00 work units)\n",
      "Optimal objective  9.285714286e-01\n",
      "Gurobi Optimizer version 12.0.0 build v12.0.0rc1 (win64 - Windows 11.0 (22631.2))\n",
      "\n",
      "CPU model: AMD Ryzen 7 3700U with Radeon Vega Mobile Gfx, instruction set [SSE2|AVX|AVX2]\n",
      "Thread count: 4 physical cores, 8 logical processors, using up to 8 threads\n",
      "\n",
      "Optimize a model with 50 rows, 37 columns and 187 nonzeros\n",
      "Coefficient statistics:\n",
      "  Matrix range     [2e-01, 5e+01]\n",
      "  Objective range  [3e-02, 6e-02]\n",
      "  Bounds range     [1e+00, 1e+00]\n",
      "  RHS range        [9e-01, 5e+02]\n",
      "LP warm-start: use basis\n",
      "\n",
      "Iteration    Objective       Primal Inf.    Dual Inf.      Time\n",
      "       0    7.6077554e-01   0.000000e+00   0.000000e+00      0s\n",
      "\n",
      "Solved in 0 iterations and 0.02 seconds (0.00 work units)\n",
      "Optimal objective  7.607755420e-01\n",
      "Solution optimale : {(4, 1, 0, 1): 1.0, (4, 1, 4, 5): 1.0, (4, 1, 5, 0): 1.0, (4, 2, 0, 1): 1.0, (4, 2, 1, 2): 1.0, (4, 2, 4, 5): 1.0, (4, 2, 5, 0): 1.0, (1, 4, 1, 2): 1.0, (1, 4, 2, 3): 1.0, (1, 4, 3, 4): 1.0, (1, 2, 1, 2): 1.0, (2, 4, 2, 3): 1.0, (2, 4, 3, 4): 1.0, (2, 1, 0, 1): 1.0, (2, 1, 2, 3): 1.0, (2, 1, 3, 4): 1.0, (2, 1, 4, 5): 1.0, (2, 1, 5, 0): 1.0}\n",
      "Résultats lexicographiques : {'cost': 536.0736391667267, 'max_utilization': 0.9285714285714285, 'avg_utilization': 0.760775542025542}\n"
     ]
    }
   ],
   "source": [
    "# Exemple d'utilisation de la somme pondérée pour un graphe cycle\n",
    "if __name__ == \"__main__\":\n",
    "    # Paramètres pour le graphe cycle\n",
    "    graph_type = 'cycle'  # Type de graphe : 'complete', 'cycle', 'random'\n",
    "    n_nodes = 6  # Nombre de nœuds\n",
    "    capacity_range = (20, 40)  # Capacités des arcs\n",
    "    cost_range = (1.0, 5.0)  # Coûts de routage\n",
    "    S_size = 3 # Taille de l'ensemble S\n",
    "    demand_range = (5, 10)  # Intervalle des demandes de trafic\n",
    "    filename = 'graph_cycle_lexicographique.csv'  # Nom du fichier CSV\n",
    "    test_lexicographique(graph_type, n_nodes, S_size, demand_range, capacity_range, cost_range, filename)"
   ]
  },
  {
   "cell_type": "markdown",
   "metadata": {},
   "source": [
    "Graphe complete"
   ]
  },
  {
   "cell_type": "code",
   "execution_count": 145,
   "metadata": {
    "vscode": {
     "languageId": "ruby"
    }
   },
   "outputs": [
    {
     "name": "stdout",
     "output_type": "stream",
     "text": [
      "Gurobi Optimizer version 12.0.0 build v12.0.0rc1 (win64 - Windows 11.0 (22631.2))\n",
      "\n",
      "CPU model: AMD Ryzen 7 3700U with Radeon Vega Mobile Gfx, instruction set [SSE2|AVX|AVX2]\n",
      "Thread count: 4 physical cores, 8 logical processors, using up to 8 threads\n",
      "\n",
      "Optimize a model with 97 rows, 181 columns and 751 nonzeros\n",
      "Model fingerprint: 0x3e86d923\n",
      "Coefficient statistics:\n",
      "  Matrix range     [1e-01, 1e+01]\n",
      "  Objective range  [1e+00, 6e+01]\n",
      "  Bounds range     [1e+00, 1e+00]\n",
      "  RHS range        [1e+00, 1e+01]\n",
      "Presolve removed 37 rows and 1 columns\n",
      "Presolve time: 0.01s\n",
      "Presolved: 60 rows, 180 columns, 480 nonzeros\n",
      "\n",
      "Iteration    Objective       Primal Inf.    Dual Inf.      Time\n",
      "       0    0.0000000e+00   1.800000e+01   0.000000e+00      0s\n",
      "      42    2.0197618e+02   0.000000e+00   0.000000e+00      0s\n",
      "\n",
      "Solved in 42 iterations and 0.02 seconds (0.00 work units)\n",
      "Optimal objective  2.019761797e+02\n",
      "Solution optimale : {(3, 2, 1, 2): 0.16666666666666674, (3, 2, 3, 1): 0.16666666666666674, (3, 2, 3, 2): 0.5, (3, 2, 3, 4): 0.3333333333333333, (3, 2, 4, 2): 0.3333333333333333, (3, 0, 1, 0): 0.22222222222222227, (3, 0, 3, 0): 0.6666666666666666, (3, 0, 3, 1): 0.22222222222222227, (3, 0, 3, 5): 0.1111111111111111, (3, 0, 5, 0): 0.1111111111111111, (2, 3, 1, 3): 0.3846153846153846, (2, 3, 2, 1): 0.3846153846153847, (2, 3, 2, 3): 0.6153846153846154, (2, 0, 1, 0): 0.0833333333333333, (2, 0, 2, 0): 0.8333333333333334, (2, 0, 2, 1): 0.08333333333333329, (2, 0, 2, 4): 0.08333333333333345, (2, 0, 4, 0): 0.08333333333333345, (0, 3, 0, 3): 1.0, (0, 2, 0, 1): 0.5, (0, 2, 0, 2): 0.5, (0, 2, 1, 2): 0.5}\n",
      "Coût total : 201.97617969572576\n",
      "Utilisation maximale : 2.5\n",
      "Utilisation moyenne : 0.41687830687830696\n"
     ]
    }
   ],
   "source": [
    "# Exemple d'utilisation de la somme pondérée pour un graphe cycle\n",
    "if __name__ == \"__main__\":\n",
    "    # Paramètres pour le graphe cycle\n",
    "    graph_type = 'complete'  # Type de graphe : 'complete', 'cycle', 'random'\n",
    "    n_nodes = 6  # Nombre de nœuds\n",
    "    capacity_range = (1, 10)  # Capacités des arcs\n",
    "    cost_range = (1.0, 5.0)  # Coûts de routage\n",
    "    S_size = 3 # Taille de l'ensemble S\n",
    "    demand_range = (1, 20)  # Intervalle des demandes de trafic\n",
    "    filename = 'graph_complete_lexicographique.csv'  # Nom du fichier CSV\n",
    "    test_epsilon_constraint(graph_type, n_nodes, S_size, demand_range, capacity_range, cost_range, filename)"
   ]
  },
  {
   "cell_type": "markdown",
   "metadata": {},
   "source": [
    "Graphe random"
   ]
  },
  {
   "cell_type": "code",
   "execution_count": 222,
   "metadata": {
    "vscode": {
     "languageId": "ruby"
    }
   },
   "outputs": [
    {
     "name": "stdout",
     "output_type": "stream",
     "text": [
      "Gurobi Optimizer version 12.0.0 build v12.0.0rc1 (win64 - Windows 11.0 (22631.2))\n",
      "\n",
      "CPU model: AMD Ryzen 7 3700U with Radeon Vega Mobile Gfx, instruction set [SSE2|AVX|AVX2]\n",
      "Thread count: 4 physical cores, 8 logical processors, using up to 8 threads\n",
      "\n",
      "Optimize a model with 155 rows, 247 columns and 1026 nonzeros\n",
      "Model fingerprint: 0x07116d39\n",
      "Coefficient statistics:\n",
      "  Matrix range     [5e-01, 8e+00]\n",
      "  Objective range  [4e+00, 4e+01]\n",
      "  Bounds range     [1e+00, 1e+00]\n",
      "  RHS range        [1e+00, 8e+00]\n",
      "Presolve removed 58 rows and 10 columns\n",
      "Presolve time: 0.03s\n",
      "Presolved: 97 rows, 237 columns, 651 nonzeros\n",
      "\n",
      "Iteration    Objective       Primal Inf.    Dual Inf.      Time\n",
      "       0    0.0000000e+00   1.200000e+01   0.000000e+00      0s\n",
      "      37    1.6870586e+02   0.000000e+00   0.000000e+00      0s\n",
      "\n",
      "Solved in 37 iterations and 0.04 seconds (0.00 work units)\n",
      "Optimal objective  1.687058639e+02\n",
      "Solution optimale : {(3, 8, 2, 8): 0.375, (3, 8, 3, 2): 0.375, (3, 8, 3, 6): 0.625, (3, 8, 5, 8): 0.625, (3, 8, 6, 5): 0.625, (3, 0, 3, 0): 0.8571428571428571, (3, 0, 3, 7): 0.1428571428571429, (3, 0, 7, 0): 0.1428571428571429, (8, 3, 4, 11): 0.33333333333333337, (8, 3, 8, 3): 0.6666666666666666, (8, 3, 8, 4): 0.33333333333333337, (8, 3, 11, 3): 0.33333333333333337, (8, 0, 6, 0): 0.25, (8, 0, 8, 10): 1.0, (8, 0, 10, 0): 0.75, (8, 0, 10, 6): 0.25, (0, 3, 0, 3): 1.0, (0, 8, 0, 8): 1.0}\n",
      "Coût total : 168.70586388987553\n",
      "Utilisation maximale : 2.5\n",
      "Utilisation moyenne : 0.28559814169570263\n"
     ]
    }
   ],
   "source": [
    "# Exemple d'utilisation de la somme pondérée pour un graphe cycle\n",
    "if __name__ == \"__main__\":\n",
    "    # Paramètres pour le graphe cycle\n",
    "    graph_type = 'random'  # Type de graphe : 'complete', 'cycle', 'random'\n",
    "    n_nodes = 12  # Nombre de nœuds\n",
    "    capacity_range = (3, 8)  # Capacités des arcs\n",
    "    cost_range = (1.0, 5.0)  # Coûts de routage\n",
    "    S_size = 3 # Taille de l'ensemble S\n",
    "    demand_range = (4, 8)  # Intervalle des demandes de trafic\n",
    "    filename = 'graph_random_lexicographique.csv'  # Nom du fichier CSV\n",
    "    test_epsilon_constraint(graph_type, n_nodes, S_size, demand_range, capacity_range, cost_range, filename)"
   ]
  },
  {
   "cell_type": "markdown",
   "metadata": {},
   "source": [
    "<h3> Routage incertain </h3>"
   ]
  },
  {
   "cell_type": "markdown",
   "metadata": {},
   "source": [
    "Géneration des données"
   ]
  },
  {
   "cell_type": "code",
   "execution_count": null,
   "metadata": {},
   "outputs": [
    {
     "name": "stdout",
     "output_type": "stream",
     "text": [
      "Gurobi Optimizer version 12.0.0 build v12.0.0rc1 (win64 - Windows 11.0 (22631.2))\n",
      "\n",
      "CPU model: AMD Ryzen 7 3700U with Radeon Vega Mobile Gfx, instruction set [SSE2|AVX|AVX2]\n",
      "Thread count: 4 physical cores, 8 logical processors, using up to 8 threads\n",
      "\n",
      "Optimize a model with 9 rows, 6 columns and 18 nonzeros\n",
      "Model fingerprint: 0x01ad3673\n",
      "Coefficient statistics:\n",
      "  Matrix range     [1e+00, 4e+00]\n",
      "  Objective range  [2e+00, 4e+00]\n",
      "  Bounds range     [1e+00, 1e+00]\n",
      "  RHS range        [1e+00, 5e+00]\n",
      "Presolve removed 6 rows and 3 columns\n",
      "Presolve time: 0.01s\n",
      "\n",
      "Solved in 0 iterations and 0.01 seconds (0.00 work units)\n",
      "Infeasible model\n"
     ]
    },
    {
     "ename": "Exception",
     "evalue": "Modèle non résolu (statut: {model.status})",
     "output_type": "error",
     "traceback": [
      "\u001b[1;31m---------------------------------------------------------------------------\u001b[0m",
      "\u001b[1;31mException\u001b[0m                                 Traceback (most recent call last)",
      "Cell \u001b[1;32mIn[244], line 123\u001b[0m\n\u001b[0;32m    120\u001b[0m     \u001b[38;5;28mprint\u001b[39m(\u001b[38;5;124m\"\u001b[39m\u001b[38;5;124mValeur optimale :\u001b[39m\u001b[38;5;124m\"\u001b[39m, obj_val)\n\u001b[0;32m    122\u001b[0m \u001b[38;5;66;03m# Lancer le test\u001b[39;00m\n\u001b[1;32m--> 123\u001b[0m \u001b[43mtest_robust_optimization\u001b[49m\u001b[43m(\u001b[49m\u001b[43m)\u001b[49m\n",
      "Cell \u001b[1;32mIn[244], line 118\u001b[0m, in \u001b[0;36mtest_robust_optimization\u001b[1;34m()\u001b[0m\n\u001b[0;32m    115\u001b[0m UT, UW \u001b[38;5;241m=\u001b[39m generate_uncertainty_sets(G, traffic_demand, demand_range, capacity_range)\n\u001b[0;32m    117\u001b[0m \u001b[38;5;66;03m# Résoudre le problème robuste\u001b[39;00m\n\u001b[1;32m--> 118\u001b[0m solution, obj_val \u001b[38;5;241m=\u001b[39m \u001b[43mrobust_optimization\u001b[49m\u001b[43m(\u001b[49m\u001b[43mG\u001b[49m\u001b[43m,\u001b[49m\u001b[43m \u001b[49m\u001b[43mUT\u001b[49m\u001b[43m,\u001b[49m\u001b[43m \u001b[49m\u001b[43mUW\u001b[49m\u001b[43m,\u001b[49m\u001b[43m \u001b[49m\u001b[38;5;124;43m'\u001b[39;49m\u001b[38;5;124;43mcost\u001b[39;49m\u001b[38;5;124;43m'\u001b[39;49m\u001b[43m)\u001b[49m\n\u001b[0;32m    119\u001b[0m \u001b[38;5;28mprint\u001b[39m(\u001b[38;5;124m\"\u001b[39m\u001b[38;5;124mSolution robuste :\u001b[39m\u001b[38;5;124m\"\u001b[39m, solution)\n\u001b[0;32m    120\u001b[0m \u001b[38;5;28mprint\u001b[39m(\u001b[38;5;124m\"\u001b[39m\u001b[38;5;124mValeur optimale :\u001b[39m\u001b[38;5;124m\"\u001b[39m, obj_val)\n",
      "Cell \u001b[1;32mIn[244], line 100\u001b[0m, in \u001b[0;36mrobust_optimization\u001b[1;34m(G, UT, UW, objective)\u001b[0m\n\u001b[0;32m     98\u001b[0m     \u001b[38;5;28;01mreturn\u001b[39;00m solution, model\u001b[38;5;241m.\u001b[39mobjVal\n\u001b[0;32m     99\u001b[0m \u001b[38;5;28;01melse\u001b[39;00m:\n\u001b[1;32m--> 100\u001b[0m     \u001b[38;5;28;01mraise\u001b[39;00m \u001b[38;5;167;01mException\u001b[39;00m(\u001b[38;5;124m\"\u001b[39m\u001b[38;5;124mModèle non résolu (statut: \u001b[39m\u001b[38;5;132;01m{model.status}\u001b[39;00m\u001b[38;5;124m)\u001b[39m\u001b[38;5;124m\"\u001b[39m)\n",
      "\u001b[1;31mException\u001b[0m: Modèle non résolu (statut: {model.status})"
     ]
    }
   ],
   "source": [
    "# Gestion de l'incertitude dans les problèmes de routage\n",
    "def generate_uncertainty_sets(G, traffic_demand, demand_range, capacity_range):\n",
    "    \"\"\"\n",
    "    Génère des ensembles d'incertitude pour les vecteurs de trafic (UT) et de coûts (UW).\n",
    "    :param G: Graphe orienté.\n",
    "    :param traffic_demand: Dictionnaire des demandes de trafic.\n",
    "    :param demand_range: Intervalle des demandes de trafic pour UT.\n",
    "    :param capacity_range: Intervalle des capacités pour UW.\n",
    "    :return: Ensembles UT et UW.\n",
    "    \"\"\"\n",
    "    # Générer UT de type 'modèle hose'\n",
    "    UT = {}\n",
    "    for (i, j), demand in traffic_demand.items():\n",
    "        UT[(i, j)] = {\n",
    "            \"min\": max(0, demand - demand_range),\n",
    "            \"max\": demand + demand_range\n",
    "        }\n",
    "\n",
    "    # Générer UW comme bornes inférieures et supérieures sur les coûts\n",
    "    UW = {}\n",
    "    for u, v in G.edges:\n",
    "        UW[(u, v)] = {\n",
    "            \"min\": max(0, G[u][v]['cost'] - capacity_range),\n",
    "            \"max\": G[u][v]['cost'] + capacity_range\n",
    "        }\n",
    "\n",
    "    return UT, UW\n",
    "\n",
    "def robust_optimization(G, UT, UW, objective):\n",
    "    \"\"\"\n",
    "    Résout le problème de routage en tenant compte de l'incertitude via optimisation robuste.\n",
    "    :param G: Graphe orienté.\n",
    "    :param UT: Ensemble d'incertitude pour le trafic.\n",
    "    :param UW: Ensemble d'incertitude pour les coûts.\n",
    "    :param objective: Fonction objectif ('cost', 'max_utilization', 'avg_utilization').\n",
    "    :return: Solution robuste et valeur optimale.\n",
    "    \"\"\"\n",
    "    model = Model(\"RobustRouting\")\n",
    "\n",
    "    # Variables de décision\n",
    "    x = {}\n",
    "    for u, v in G.edges:\n",
    "        for (i, j), bounds in UT.items():\n",
    "            x[(i, j, u, v)] = model.addVar(lb=0, ub=1, name=f\"x_{i}_{j}_{u}_{v}\")\n",
    "\n",
    "    # Contraintes de conservation de flux\n",
    "    for (i, j), bounds in UT.items():\n",
    "        for node in G.nodes:\n",
    "            inflow = sum(x[(i, j, u, v)] for u, v in G.in_edges(node))\n",
    "            outflow = sum(x[(i, j, u, v)] for u, v in G.out_edges(node))\n",
    "            if node == i:\n",
    "                model.addConstr(outflow - inflow == 1, name=f\"flow_src_{i}_{j}_{node}\")\n",
    "            elif node == j:\n",
    "                model.addConstr(inflow - outflow == 1, name=f\"flow_dst_{i}_{j}_{node}\")\n",
    "            else:\n",
    "                model.addConstr(inflow - outflow == 0, name=f\"flow_mid_{i}_{j}_{node}\")\n",
    "\n",
    "    # Contraintes de capacité\n",
    "    for u, v in G.edges:\n",
    "        model.addConstr(\n",
    "            sum(bounds['max'] * x[(i, j, u, v)] for (i, j), bounds in UT.items()) <= G[u][v]['capacity'],\n",
    "            name=f\"capacity_{u}_{v}\"\n",
    "        )\n",
    "\n",
    "    # Fonction objectif robuste\n",
    "    if objective == 'cost':\n",
    "        cost = sum(\n",
    "            UW[(u, v)]['max'] * x[(i, j, u, v)] for u, v in G.edges for (i, j), bounds in UT.items()\n",
    "        )\n",
    "        model.setObjective(cost, GRB.MINIMIZE)\n",
    "    elif objective == 'max_utilization':\n",
    "        max_utilization = model.addVar(lb=0, ub=GRB.INFINITY, name=\"max_utilization\")\n",
    "        for u, v in G.edges:\n",
    "            model.addConstr(\n",
    "                max_utilization >=\n",
    "                sum(bounds['max'] * x[(i, j, u, v)] for (i, j), bounds in UT.items()) / G[u][v]['capacity'],\n",
    "                name=f\"utilization_{u}_{v}\"\n",
    "            )\n",
    "        model.setObjective(max_utilization, GRB.MINIMIZE)\n",
    "    elif objective == 'avg_utilization':\n",
    "        avg_utilization = sum(\n",
    "            sum(bounds['max'] * x[(i, j, u, v)] for (i, j), bounds in UT.items()) / G[u][v]['capacity']\n",
    "            for u, v in G.edges\n",
    "        ) / G.number_of_edges()\n",
    "        model.setObjective(avg_utilization, GRB.MINIMIZE)\n",
    "    else:\n",
    "        raise ValueError(\"Objectif non reconnu\")\n",
    "\n",
    "    # Résolution\n",
    "    model.optimize()\n",
    "\n",
    "    # Extraction des résultats\n",
    "    if model.status == GRB.OPTIMAL:\n",
    "        solution = {key: var.x for key, var in x.items() if var.x > 0}\n",
    "        return solution, model.objVal\n",
    "    else:\n",
    "        raise Exception(\"Modèle non résolu (statut: {model.status})\")\n",
    "\n",
    "# Exemple d'utilisation\n",
    "def test_robust_optimization():\n",
    "    # Créer un graphe simple\n",
    "    G = nx.DiGraph()\n",
    "    G.add_edge(0, 1, capacity=5, cost=2)\n",
    "    G.add_edge(1, 2, capacity=5, cost=3)\n",
    "    G.add_edge(0, 2, capacity=1, cost=1)\n",
    "\n",
    "    traffic_demand = {(0, 2): 3, (0, 1): 2}\n",
    "    demand_range = 1\n",
    "    capacity_range = 0.5\n",
    "\n",
    "    # Générer les ensembles d'incertitude\n",
    "    UT, UW = generate_uncertainty_sets(G, traffic_demand, demand_range, capacity_range)\n",
    "\n",
    "    # Résoudre le problème robuste\n",
    "    solution, obj_val = robust_optimization(G, UT, UW, 'cost')\n",
    "    print(\"Solution robuste :\", solution)\n",
    "    print(\"Valeur optimale :\", obj_val)\n",
    "\n",
    "# Lancer le test\n",
    "test_robust_optimization()\n"
   ]
  }
 ],
 "metadata": {
  "kernelspec": {
   "display_name": "Python 3",
   "language": "python",
   "name": "python3"
  },
  "language_info": {
   "codemirror_mode": {
    "name": "ipython",
    "version": 3
   },
   "file_extension": ".py",
   "mimetype": "text/x-python",
   "name": "python",
   "nbconvert_exporter": "python",
   "pygments_lexer": "ipython3",
   "version": "3.11.9"
  }
 },
 "nbformat": 4,
 "nbformat_minor": 2
}
