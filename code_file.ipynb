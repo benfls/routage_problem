{
 "cells": [
  {
   "cell_type": "markdown",
   "metadata": {},
   "source": [
    "<h3> Importation des librairies et sélection des options d'affichage </h3>"
   ]
  },
  {
   "cell_type": "code",
   "execution_count": 2,
   "metadata": {},
   "outputs": [],
   "source": [
    "import networkx as nx\n",
    "import gurobipy\n",
    "from gurobipy import Model, GRB\n",
    "import matplotlib.pyplot as plt\n",
    "import sys\n",
    "import random\n",
    "import csv\n",
    "\n",
    "options = {\n",
    "    \"font_size\": 20,\n",
    "    \"node_size\": 1000,\n",
    "    \"node_color\": \"white\",\n",
    "    \"edgecolors\": \"black\",\n",
    "    \"linewidths\": 5,\n",
    "    \"width\": 5,\n",
    "    \"with_labels\": True,\n",
    "}"
   ]
  },
  {
   "cell_type": "markdown",
   "metadata": {},
   "source": [
    "Fonction de géneration d'instance de graphique avec sélection de type de graphe"
   ]
  },
  {
   "cell_type": "code",
   "execution_count": 3,
   "metadata": {},
   "outputs": [],
   "source": [
    "# Generer des instances de graphes\n",
    "\n",
    "def generate_graph(graph_type, n_nodes, p=None):\n",
    "    \"\"\"\n",
    "    Génère un graphe selon le type spécifié.\n",
    "    :param graph_type: Type de graphe ('complete', 'cycle', 'random').\n",
    "    :param n_nodes: Nombre de nœuds.\n",
    "    :param p: Probabilité pour les graphes aléatoires (nécessaire pour 'random').\n",
    "    :return: Graphe généré.\n",
    "    \"\"\"\n",
    "    if graph_type == 'complete':\n",
    "        G = nx.complete_graph(n_nodes, create_using=nx.DiGraph)\n",
    "    elif graph_type == 'cycle':\n",
    "        G = nx.cycle_graph(n_nodes, create_using=nx.DiGraph)\n",
    "    elif graph_type == 'random':\n",
    "        G = nx.erdos_renyi_graph(n_nodes, p, directed=True)\n",
    "    else:\n",
    "        raise ValueError(\"Type de graphe non supporté\")\n",
    "    return G\n"
   ]
  },
  {
   "cell_type": "markdown",
   "metadata": {},
   "source": [
    "Création des valeurs de capacité et de coût "
   ]
  },
  {
   "cell_type": "code",
   "execution_count": 4,
   "metadata": {},
   "outputs": [],
   "source": [
    "def assign_capacities_and_costs(G, capacity_range, cost_range):\n",
    "    \"\"\"\n",
    "    Assigne des capacités et des coûts de routage aux arcs.\n",
    "    :param G: Graphe.\n",
    "    :param capacity_range: Intervalle pour les capacités (e.g., (1, 10)).\n",
    "    :param cost_range: Intervalle pour les coûts (e.g., (1, 5)).\n",
    "    :return: Graphe avec attributs assignés.\n",
    "    \"\"\"\n",
    "    for u, v in G.edges:\n",
    "        G[u][v]['capacity'] = random.randint(*capacity_range)\n",
    "        G[u][v]['cost'] = random.uniform(*cost_range)\n",
    "    return G"
   ]
  },
  {
   "cell_type": "markdown",
   "metadata": {},
   "source": [
    "Generation de la demande du traffic "
   ]
  },
  {
   "cell_type": "code",
   "execution_count": 5,
   "metadata": {},
   "outputs": [],
   "source": [
    "def generate_traffic_demand(G, S_size, demand_range):\n",
    "    \"\"\"\n",
    "    Génère des sous-ensembles S de nœuds et des demandes de trafic.\n",
    "    :param G: Graphe.\n",
    "    :param S_size: Taille de l'ensemble S.\n",
    "    :param demand_range: Intervalle pour les demandes de trafic (e.g., (1, 20)).\n",
    "    :return: Ensemble S et vecteur des demandes de trafic.\n",
    "    \"\"\"\n",
    "    nodes = list(G.nodes)\n",
    "    S = random.sample(nodes, S_size)\n",
    "    traffic_demand = {}\n",
    "    for i in S:\n",
    "        for j in S:\n",
    "            if i != j:\n",
    "                traffic_demand[(i, j)] = random.randint(*demand_range)\n",
    "    return S, traffic_demand"
   ]
  },
  {
   "cell_type": "markdown",
   "metadata": {},
   "source": [
    "Sauvegarde de l'instance dans un csv"
   ]
  },
  {
   "cell_type": "code",
   "execution_count": 6,
   "metadata": {},
   "outputs": [],
   "source": [
    "def save_to_csv(G, S, traffic_demand, filename):\n",
    "    \"\"\"\n",
    "    Sauvegarde le graphe, les capacités, les coûts et les demandes de trafic dans un fichier CSV.\n",
    "    :param G: Graphe.\n",
    "    :param S: Sous-ensemble des nœuds.\n",
    "    :param traffic_demand: Dictionnaire des demandes de trafic.\n",
    "    :param filename: Nom du fichier CSV.\n",
    "    \"\"\"\n",
    "    with open(\"graph/\"+filename, mode='w', newline='') as file:\n",
    "        writer = csv.writer(file)\n",
    "        # Écriture des arcs avec capacités et coûts\n",
    "        writer.writerow(['Source', 'Target', 'Capacity', 'Cost'])\n",
    "        for u, v in G.edges:\n",
    "            writer.writerow([u, v, G[u][v]['capacity'], G[u][v]['cost']])\n",
    "        \n",
    "        # Écriture des demandes de trafic\n",
    "        writer.writerow([])\n",
    "        writer.writerow(['entry', 'Target', 'Traffic Demand'])\n",
    "        for (i, j), demand in traffic_demand.items():\n",
    "            writer.writerow([i, j, demand])\n",
    "        \n",
    "        # Écriture de l'ensemble S\n",
    "        writer.writerow([])\n",
    "        writer.writerow(['Subset S'])\n",
    "        writer.writerow(S)"
   ]
  },
  {
   "cell_type": "code",
   "execution_count": 7,
   "metadata": {},
   "outputs": [],
   "source": [
    "def create_instance(graph_type, n_nodes, capacity_range, cost_range, S_size, demand_range, filename):\n",
    "    G = generate_graph(graph_type, n_nodes, p=0.3)\n",
    "    G = assign_capacities_and_costs(G, capacity_range, cost_range)\n",
    "    S, traffic_demand = generate_traffic_demand(G, S_size, demand_range)\n",
    "    save_to_csv(G, S, traffic_demand, filename)\n",
    "\n",
    "    print(f\"Instance générée et sauvegardée dans {filename}\")\n",
    "    \n",
    "    "
   ]
  },
  {
   "cell_type": "markdown",
   "metadata": {},
   "source": [
    "Exemple utilisation de géneration, attribution des capacités et coût et de la sauvegarde du graphe "
   ]
  },
  {
   "cell_type": "code",
   "execution_count": 8,
   "metadata": {},
   "outputs": [
    {
     "name": "stdout",
     "output_type": "stream",
     "text": [
      "Instance générée et sauvegardée dans graph_instance2.csv\n"
     ]
    }
   ],
   "source": [
    "# Exemple d'utilisation\n",
    "if __name__ == \"__main__\":\n",
    "    # Paramètres\n",
    "    graph_type = 'random'  # Type de graphe : 'complete', 'cycle', 'random'\n",
    "    n_nodes = 15  # Nombre de nœuds\n",
    "    capacity_range = (1, 10)  # Capacités des arcs\n",
    "    cost_range = (1.0, 5.0)  # Coûts de routage\n",
    "    S_size = 5  # Taille de l'ensemble S\n",
    "    demand_range = (1, 20)  # Intervalle des demandes de trafic\n",
    "    filename = 'graph_instance2.csv'  # Nom du fichier CSV\n",
    "\n",
    "    create_instance(graph_type, n_nodes, capacity_range, cost_range, S_size, demand_range, filename)\n",
    "    \n",
    "    "
   ]
  },
  {
   "cell_type": "markdown",
   "metadata": {},
   "source": [
    "Fonction d'une lecture d'une instance "
   ]
  },
  {
   "cell_type": "code",
   "execution_count": 9,
   "metadata": {},
   "outputs": [],
   "source": [
    "def read_instance(filename):\n",
    "    \"\"\"\n",
    "    Lit une instance à partir d'un fichier CSV.\n",
    "    Args:\n",
    "        filename (string): nom du fichier csv\n",
    "    Return:\n",
    "        Graphe, sous-ensemble S, et demande de trafic  \n",
    "    \"\"\"\n",
    "    G = nx.DiGraph()\n",
    "    traffic_demand = {}\n",
    "    S = []\n",
    "    with open(\"graph/\"+filename, mode='r') as file:\n",
    "        reader = csv.reader(file)\n",
    "        section = \"arcs\"\n",
    "        for row in reader:\n",
    "            if not row:\n",
    "                continue\n",
    "            if row[0] == \"Source\":\n",
    "                continue\n",
    "            if row[0] == \"entry\":\n",
    "                section = \"traffic\"\n",
    "            if row[0] == \"Subset S\":\n",
    "                section = \"subset\"\n",
    "                continue\n",
    "            if section == \"arcs\":\n",
    "                G.add_edge(int(row[0]), int(row[1]), capacity=float(row[2]), cost=float(row[3]))\n",
    "            elif section ==\"traffic\":\n",
    "                traffic_demand[(int(row[0]), int(row[1]))] = int(row[2])\n",
    "            elif section == \"subset\":\n",
    "                S = list(map(int, row))\n",
    "                break\n",
    "    return G, S, traffic_demand \n",
    "    "
   ]
  },
  {
   "cell_type": "markdown",
   "metadata": {},
   "source": [
    "Fonction pour créer et resoudre un PL pour une fonction objectif donnée "
   ]
  },
  {
   "cell_type": "code",
   "execution_count": 10,
   "metadata": {},
   "outputs": [],
   "source": [
    "def solve_linear_program(G, traffic_demand, objective):\n",
    "    \"\"\"\n",
    "    Résout un programme linéaire associé à une fonction objective spécifiée.\n",
    "\n",
    "    Args:\n",
    "        G (networkx graph): graphe de l'instance \n",
    "        traffic_demand (_type_): valeur de la demande pour le sous ensemble S\n",
    "        objective (_type_): fonction objective choisie\n",
    "        \n",
    "    return:\n",
    "        solutions de routage et valeur optimale \n",
    "    \"\"\"\n",
    "    \n",
    "    model = Model(\"Routing\")\n",
    "    \n",
    "    #Variables de décision\n",
    "    x = {}\n",
    "    for (i, j), demand in traffic_demand.items():\n",
    "        for u, v in G.edges:\n",
    "            x[i, j, u, v] = model.addVar(lb=0, ub=1, name=f\"x_{i}_{j}_{u}_{v}\")\n",
    "    \n",
    "    #Contraintes de conservation de flux\n",
    "    for (i, j), demand in traffic_demand.items():\n",
    "        for node in G.nodes:\n",
    "            inflow = sum(x[(i, j, u, v)] for u, v in G.in_edges(node))\n",
    "            outflow = sum(x[(i, j, u, v)] for u, v, in G.out_edges(node))\n",
    "            if node == i:\n",
    "                model.addConstr(outflow - inflow == 1, name=f\"flow_src_{i}_{j}_{node}\")\n",
    "            elif node == j:\n",
    "                model.addConstr(inflow - outflow == 1, name=f\"flow_dst_{i}_{j}_{node}\")\n",
    "            else:\n",
    "                model.addConstr(inflow - outflow == 0, name=f\"flow_mid_{i}_{j}_{node}\")\n",
    "\n",
    "    # Constrainte de capacité \n",
    "    for u, v in G.edges:    \n",
    "        model.addConstr(\n",
    "            sum(demand * x[(i, j, u, v)] for (i, j), demand in traffic_demand.items()) <= G[u][v]['capacity'],\n",
    "            name=f\"capacity_{u}_{v}\"\n",
    "        )\n",
    "    \n",
    "    # Objectifs\n",
    "    if objective == \"cost\":\n",
    "        model.setObjective(\n",
    "            sum(x[(i, j, u, v)] * demand * G[u][v]['cost'] for (i, j), demand in traffic_demand.items() for u, v in G.edges),\n",
    "            GRB.MINIMIZE\n",
    "        )\n",
    "    elif objective == \"max_utlilization\":\n",
    "        utilisation = model.addVar(lb=0, ub=GRB.INFINITY, name=\"max_utilisation\")\n",
    "        for u, v in G.edges:\n",
    "            model.addConstr(\n",
    "                utilisation >=\n",
    "                sum(demand * x[(i, j, u, v)] for (i, j), demand in traffic_demand.items()) / G[u][v]['capacity'],\n",
    "                name=f\"utilisation_{u}_{v}\"\n",
    "            )\n",
    "        model.setObjective(utilisation, GRB.MINIMIZE)\n",
    "    elif objective == \"avg_utilisation\":\n",
    "        avg_utilisation = sum(\n",
    "            sum(demand * x[(i, j, u, v)] for (i, j), demand in traffic_demand.items()) / G[u][v]['capacity']\n",
    "            for u, v in G.edges\n",
    "        ) / G.number_of_edges()\n",
    "        model.setObjective(avg_utilisation, GRB.MINIMIZE)\n",
    "    else:\n",
    "        raise ValueError(\"Fonction objectif non reconnue\")\n",
    "\n",
    "    #Résolution\n",
    "    model.optimize()\n",
    "    \n",
    "    # Débogage en cas d'infaisabilité\n",
    "    if model.status == GRB.INFEASIBLE:\n",
    "        print(\"Modèle infaisable. Analyse des conflits...\")\n",
    "        model.computeIIS()\n",
    "        model.write(\"infeasible.ilp\")\n",
    "        print(\"Conflits enregistrés dans infeasible.ilp\")\n",
    "        return None\n",
    "    \n",
    "    #Extraction de la solution\n",
    "    if model.status == GRB.OPTIMAL:\n",
    "        solution = {key: var.x for key, var in x.items() if var.x > 0}\n",
    "        return solution, model.ObjVal\n",
    "    else:\n",
    "        raise Exception(\"Pas de solution optimale trouvée\")\n",
    "    "
   ]
  },
  {
   "cell_type": "markdown",
   "metadata": {},
   "source": [
    "Fonction de test de la résolution d'une instance de graphe"
   ]
  },
  {
   "cell_type": "code",
   "execution_count": 11,
   "metadata": {},
   "outputs": [],
   "source": [
    "def test_program(graph_type, n_nodes, S_size, demand_range, capacity_range, cost_range, objective):\n",
    "    \"\"\"\n",
    "    Teste le programme de résolution de PL sur un type de graphe\n",
    "\n",
    "    Args:\n",
    "        graph_type (string): type de graphe \n",
    "        n_nodes (int): nombre de node dans V\n",
    "        S_size (int): nombre de node dans S\n",
    "        demand_range (tuple): tuple de 2 int pour le range des valeurs de demande \n",
    "        capacity_range (tuple): tuple de 2 int pour le range des valeurs de capacité\n",
    "        cost_range (tuple): tuple de 2 int pour le range des valeurs de capacité\n",
    "        objective (string): nom de la fonction objective choisi (cost, max_utlilization, avg_utlilization)\n",
    "    \"\"\"\n",
    "    G = generate_graph(graph_type, n_nodes, 0.3)\n",
    "    G = assign_capacities_and_costs(G, capacity_range, cost_range)\n",
    "    S, traffic_demand = generate_traffic_demand(G, S_size, demand_range)\n",
    "    solution, optimal_value = solve_linear_program(G, traffic_demand, objective)\n",
    "    print(f\"Solution optimale pour {objective}:\", solution)\n",
    "    print(f\"Valeur optimale pour {objective}: {optimal_value}\")"
   ]
  },
  {
   "cell_type": "code",
   "execution_count": 12,
   "metadata": {},
   "outputs": [
    {
     "name": "stdout",
     "output_type": "stream",
     "text": [
      "Restricted license - for non-production use only - expires 2026-11-23\n",
      "Gurobi Optimizer version 12.0.0 build v12.0.0rc1 (win64 - Windows 11.0 (22631.2))\n",
      "\n",
      "CPU model: AMD Ryzen 7 3700U with Radeon Vega Mobile Gfx, instruction set [SSE2|AVX|AVX2]\n",
      "Thread count: 4 physical cores, 8 logical processors, using up to 8 threads\n",
      "\n",
      "Optimize a model with 373 rows, 1460 columns and 4380 nonzeros\n",
      "Model fingerprint: 0xc4cd5a05\n",
      "Coefficient statistics:\n",
      "  Matrix range     [1e+00, 2e+01]\n",
      "  Objective range  [2e+00, 8e+01]\n",
      "  Bounds range     [1e+00, 1e+00]\n",
      "  RHS range        [1e+00, 2e+01]\n",
      "Presolve removed 24 rows and 8 columns\n",
      "Presolve time: 0.05s\n",
      "Presolved: 349 rows, 1452 columns, 4151 nonzeros\n",
      "\n",
      "Iteration    Objective       Primal Inf.    Dual Inf.      Time\n",
      "       0   -2.8728889e+01   6.988235e+01   0.000000e+00      0s\n",
      "     179    9.3612599e+02   0.000000e+00   0.000000e+00      0s\n",
      "\n",
      "Solved in 179 iterations and 0.08 seconds (0.00 work units)\n",
      "Optimal objective  9.361259881e+02\n",
      "Solution optimale pour cost: {(7, 2, 4, 2): 1.0, (7, 2, 7, 4): 1.0, (7, 8, 7, 8): 1.0, (7, 13, 3, 13): 1.0, (7, 13, 7, 3): 1.0, (7, 0, 7, 9): 1.0, (7, 0, 9, 0): 1.0, (2, 7, 2, 7): 1.0, (2, 8, 2, 6): 1.0, (2, 8, 6, 8): 1.0, (2, 13, 2, 3): 0.2142857142857143, (2, 13, 2, 13): 0.7857142857142857, (2, 13, 3, 13): 0.2142857142857143, (2, 0, 2, 0): 1.0, (8, 7, 4, 7): 0.6875, (8, 7, 6, 4): 0.6875, (8, 7, 8, 6): 0.6875, (8, 7, 8, 7): 0.3125, (8, 2, 3, 2): 0.36363636363636365, (8, 2, 8, 3): 0.36363636363636365, (8, 2, 8, 12): 0.6363636363636364, (8, 2, 12, 2): 0.6363636363636364, (8, 13, 3, 13): 1.0, (8, 13, 8, 3): 1.0, (8, 0, 3, 9): 0.6666666666666666, (8, 0, 8, 3): 0.6666666666666666, (8, 0, 8, 12): 0.33333333333333337, (8, 0, 9, 0): 0.6666666666666666, (8, 0, 10, 0): 0.33333333333333337, (8, 0, 12, 10): 0.33333333333333337, (13, 7, 13, 7): 1.0, (13, 2, 9, 2): 1.0, (13, 2, 13, 9): 1.0, (13, 8, 10, 8): 0.2666666666666667, (13, 8, 13, 8): 0.7333333333333333, (13, 8, 13, 10): 0.2666666666666667, (13, 0, 13, 0): 1.0, (0, 7, 0, 7): 1.0, (0, 2, 0, 3): 0.47058823529411764, (0, 2, 0, 4): 0.5294117647058824, (0, 2, 3, 2): 0.47058823529411764, (0, 2, 4, 2): 0.5294117647058824, (0, 8, 0, 3): 0.05882352941176472, (0, 8, 0, 4): 0.47058823529411764, (0, 8, 0, 7): 0.47058823529411764, (0, 8, 3, 10): 0.05882352941176472, (0, 8, 4, 10): 0.47058823529411764, (0, 8, 7, 8): 0.47058823529411764, (0, 8, 10, 8): 0.5294117647058824, (0, 13, 0, 3): 1.0, (0, 13, 3, 13): 1.0}\n",
      "Valeur optimale pour cost: 936.1259881000117\n"
     ]
    }
   ],
   "source": [
    "# Exemple d'utilisation\n",
    "if __name__ == \"__main__\":\n",
    "    # Paramètres\n",
    "    graph_type = 'random'  # Type de graphe : 'complete', 'cycle', 'random'\n",
    "    n_nodes = 15  # Nombre de nœuds\n",
    "    capacity_range = (10, 20)  # Capacités des arcs\n",
    "    cost_range = (1.0, 5.0)  # Coûts de routage\n",
    "    S_size = 5  # Taille de l'ensemble S\n",
    "    demand_range = (1, 20)  # Intervalle des demandes de trafic\n",
    "    filename = 'graph_instance.csv'  # Nom du fichier CSV\n",
    "    objective = \"cost\" # Choix de la fonction objective \n",
    "    test_program(graph_type, n_nodes, S_size, demand_range, capacity_range, cost_range, objective)\n",
    "    \n",
    "    "
   ]
  }
 ],
 "metadata": {
  "kernelspec": {
   "display_name": "Python 3",
   "language": "python",
   "name": "python3"
  },
  "language_info": {
   "codemirror_mode": {
    "name": "ipython",
    "version": 3
   },
   "file_extension": ".py",
   "mimetype": "text/x-python",
   "name": "python",
   "nbconvert_exporter": "python",
   "pygments_lexer": "ipython3",
   "version": "3.11.9"
  }
 },
 "nbformat": 4,
 "nbformat_minor": 2
}
